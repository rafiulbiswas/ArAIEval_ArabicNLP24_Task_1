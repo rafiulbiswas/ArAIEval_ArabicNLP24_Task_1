{
  "cells": [
    {
      "cell_type": "code",
      "source": [
        "from google.colab import drive\n",
        "drive.mount('/content/drive')"
      ],
      "metadata": {
        "colab": {
          "base_uri": "https://localhost:8080/"
        },
        "id": "98Q8WNsy6UWi",
        "outputId": "b7b06853-f1f7-4262-b1c9-4615498b7874"
      },
      "id": "98Q8WNsy6UWi",
      "execution_count": 1,
      "outputs": [
        {
          "output_type": "stream",
          "name": "stdout",
          "text": [
            "Mounted at /content/drive\n"
          ]
        }
      ]
    },
    {
      "cell_type": "code",
      "execution_count": 3,
      "id": "3f79ef9c-6ba1-4858-93b6-885a13e9d935",
      "metadata": {
        "id": "3f79ef9c-6ba1-4858-93b6-885a13e9d935"
      },
      "outputs": [],
      "source": [
        "import json\n",
        "\n",
        "def read_jsonl(file_path):\n",
        "    data = []\n",
        "    with open(file_path, 'r', encoding='utf-8') as file:\n",
        "        for line in file:\n",
        "            data.append(json.loads(line))\n",
        "    return data\n",
        "\n",
        "test_path = '/content/drive/MyDrive/task1/data/araieval24_task1_test.jsonl'\n",
        "# Change this to your actual file path\n",
        "train_path = '/content/drive/MyDrive/task1/data/araieval24_task1_train.jsonl'\n",
        "val_path='/content/drive/MyDrive/task1/data/araieval24_task1_dev.jsonl'\n",
        "train_json = read_jsonl(train_path)\n",
        "test_json = read_jsonl(test_path)\n",
        "val_json=read_jsonl(val_path)"
      ]
    },
    {
      "cell_type": "code",
      "source": [
        "train_size = len(train_json)\n",
        "val_size=len(val_json)\n",
        "test_size = len(test_json)"
      ],
      "metadata": {
        "id": "_27iQM4JBPR3"
      },
      "id": "_27iQM4JBPR3",
      "execution_count": 4,
      "outputs": []
    },
    {
      "cell_type": "code",
      "source": [
        "print(f\"Train file size: {train_size} items\")\n",
        "print(f\"Val file size: {val_size} items\")\n",
        "print(f\"Test file size: {test_size} items\")\n"
      ],
      "metadata": {
        "id": "WVOhZnzMBS6a",
        "outputId": "e033d2ac-f83b-4101-fbdb-da4c284fca5e",
        "colab": {
          "base_uri": "https://localhost:8080/"
        }
      },
      "id": "WVOhZnzMBS6a",
      "execution_count": 5,
      "outputs": [
        {
          "output_type": "stream",
          "name": "stdout",
          "text": [
            "Train file size: 6997 items\n",
            "Val file size: 921 items\n",
            "Test file size: 1046 items\n"
          ]
        }
      ]
    },
    {
      "cell_type": "code",
      "source": [
        "import matplotlib.pyplot as plt\n",
        "\n",
        "# Sizes of train and test files\n",
        "sizes = [len(train_json), len(test_json)]\n",
        "labels = ['Train', 'Test']\n",
        "\n",
        "# Create a bar chart\n",
        "plt.figure(figsize=(6, 4))\n",
        "plt.bar(labels, sizes, color=['skyblue', 'lightgreen'])\n",
        "plt.xlabel('Dataset')\n",
        "plt.ylabel('Number of Items')\n",
        "plt.title('Train and Test File Sizes')\n",
        "plt.show()\n"
      ],
      "metadata": {
        "id": "u8jmKtXpBeGB",
        "outputId": "ee0f12bc-41b8-45ae-b7a5-a29df47e3ed9",
        "colab": {
          "base_uri": "https://localhost:8080/",
          "height": 410
        }
      },
      "id": "u8jmKtXpBeGB",
      "execution_count": 20,
      "outputs": [
        {
          "output_type": "display_data",
          "data": {
            "text/plain": [
              "<Figure size 600x400 with 1 Axes>"
            ],
            "image/png": "[encoded data removed]"
          },
          "metadata": {}
        }
      ]
    },
    {
      "cell_type": "code",
      "source": [
        "def count_techniques(data):\n",
        "    technique_count = {}\n",
        "    for tweet in data:\n",
        "        labels = tweet['labels']\n",
        "        for label in labels:\n",
        "            technique = label['technique']\n",
        "            technique_count[technique] = technique_count.get(technique, 0) + 1\n",
        "    return technique_count\n",
        "\n",
        "train_technique_count = count_techniques(train_json)\n",
        "\n",
        "# Print the counts for each technique\n",
        "for technique, count in train_technique_count.items():\n",
        "    print(f\"{technique}: {count}\")\n"
      ],
      "metadata": {
        "colab": {
          "base_uri": "https://localhost:8080/"
        },
        "id": "GfcLYIwk7KDJ",
        "outputId": "60854fe3-9ea0-436d-bdb9-d5bc23513806"
      },
      "id": "GfcLYIwk7KDJ",
      "execution_count": 7,
      "outputs": [
        {
          "output_type": "stream",
          "name": "stdout",
          "text": [
            "Appeal_to_Fear-Prejudice: 180\n",
            "Loaded_Language: 8779\n",
            "Name_Calling-Labeling: 2243\n",
            "Questioning_the_Reputation: 872\n",
            "Exaggeration-Minimisation: 1077\n",
            "Appeal_to_Values: 116\n",
            "Flag_Waving: 218\n",
            "Doubt: 293\n",
            "Obfuscation-Vagueness-Confusion: 578\n",
            "Slogans: 190\n",
            "Appeal_to_Authority: 218\n",
            "Repetition: 144\n",
            "Causal_Oversimplification: 310\n",
            "False_Dilemma-No_Choice: 74\n",
            "Whataboutism: 26\n",
            "Conversation_Killer: 69\n",
            "Straw_Man: 23\n",
            "Appeal_to_Hypocrisy: 108\n",
            "Appeal_to_Popularity: 46\n",
            "Guilt_by_Association: 23\n",
            "Red_Herring: 41\n",
            "Appeal_to_Time: 54\n",
            "Consequential_Oversimplification: 83\n"
          ]
        }
      ]
    },
    {
      "cell_type": "code",
      "source": [
        "import matplotlib.pyplot as plt\n",
        "\n",
        "# Sort the technique counts by value in descending order\n",
        "sorted_counts = sorted(train_technique_count.items(), key=lambda x: x[1], reverse=True)\n",
        "\n",
        "# Extract technique names and counts\n",
        "techniques = [item[0] for item in sorted_counts]\n",
        "counts = [item[1] for item in sorted_counts]\n",
        "\n",
        "# Calculate percentages\n",
        "total_samples = sum(counts)\n",
        "percentages = [(count / total_samples) * 100 for count in counts]\n",
        "\n",
        "# Create a bar chart with percentages displayed on each bar\n",
        "plt.figure(figsize=(10, 6))\n",
        "bars = plt.barh(techniques, percentages, color='skyblue')\n",
        "plt.xlabel('Percentage')\n",
        "plt.ylabel('Technique')\n",
        "plt.title('Technique Percentages in Training Dataset')\n",
        "plt.gca().invert_yaxis()  # Invert y-axis to display techniques in descending order\n",
        "\n",
        "# Add percentage labels to the bars\n",
        "for bar, percentage in zip(bars, percentages):\n",
        "    plt.text(bar.get_width(), bar.get_y() + bar.get_height() / 2, f'{percentage:.2f}%',\n",
        "             va='center', ha='left')\n",
        "\n",
        "plt.savefig('Technique Percentages.png')\n",
        "plt.show()\n"
      ],
      "metadata": {
        "id": "oB7jzemSecDk",
        "outputId": "44645972-1c93-47d6-a6c3-2e32993c2213",
        "colab": {
          "base_uri": "https://localhost:8080/",
          "height": 467
        }
      },
      "id": "oB7jzemSecDk",
      "execution_count": 8,
      "outputs": [
        {
          "output_type": "display_data",
          "data": {
            "text/plain": [
              "<Figure size 1000x600 with 1 Axes>"
            ],
            "image/png": "[encoded data removed]"
          },
          "metadata": {}
        }
      ]
    },
    {
      "cell_type": "code",
      "source": [
        "import matplotlib.pyplot as plt\n",
        "\n",
        "# Sort the technique counts by value in descending order\n",
        "sorted_counts = sorted(train_technique_count.items(), key=lambda x: x[1], reverse=True)\n",
        "\n",
        "# Extract technique names and counts\n",
        "techniques = [item[0] for item in sorted_counts]\n",
        "counts = [item[1] for item in sorted_counts]\n",
        "\n",
        "# Create a bar chart\n",
        "plt.figure(figsize=(10, 6))\n",
        "plt.barh(techniques, counts, color='skyblue')\n",
        "plt.xlabel('Count')\n",
        "plt.ylabel('Technique')\n",
        "plt.title('Technique Counts in Training Dataset')\n",
        "plt.gca().invert_yaxis()  # Invert y-axis to display techniques in descending order\n",
        "plt.savefig('Technique Counts.png')"
      ],
      "metadata": {
        "colab": {
          "base_uri": "https://localhost:8080/",
          "height": 474
        },
        "id": "lUA-jJMJ-QPE",
        "outputId": "2244553a-fcaf-46ef-d904-f0eda164cd57"
      },
      "id": "lUA-jJMJ-QPE",
      "execution_count": 8,
      "outputs": [
        {
          "output_type": "display_data",
          "data": {
            "text/plain": [
              "<Figure size 1000x600 with 1 Axes>"
            ],
            "image/png": "[encoded data removed]"
          },
          "metadata": {}
        }
      ]
    },
    {
      "cell_type": "code",
      "source": [
        "def count_types(data):\n",
        "    type_count = {}\n",
        "    for tweet in data:\n",
        "        tweet_type = tweet['type']\n",
        "        type_count[tweet_type] = type_count.get(tweet_type, 0) + 1\n",
        "    return type_count\n",
        "\n",
        "train_type_count = count_types(train_json)\n",
        "\n",
        "# Print the counts for each type\n",
        "for tweet_type, count in train_type_count.items():\n",
        "    print(f\"{tweet_type}: {count}\")"
      ],
      "metadata": {
        "colab": {
          "base_uri": "https://localhost:8080/"
        },
        "id": "F6KL0auk_b-v",
        "outputId": "f6efb05b-c781-48f6-c94a-cb5986489bc6"
      },
      "id": "F6KL0auk_b-v",
      "execution_count": 9,
      "outputs": [
        {
          "output_type": "stream",
          "name": "stdout",
          "text": [
            "tweet: 995\n",
            "paragraph: 6002\n"
          ]
        }
      ]
    },
    {
      "cell_type": "code",
      "source": [
        "import matplotlib.pyplot as plt\n",
        "\n",
        "def count_types(data):\n",
        "    type_count = {}\n",
        "    for tweet in data:\n",
        "        tweet_type = tweet['type']\n",
        "        type_count[tweet_type] = type_count.get(tweet_type, 0) + 1\n",
        "    return type_count\n",
        "\n",
        "train_type_count = count_types(train_json)\n",
        "\n",
        "# Extract type names and counts\n",
        "types = list(train_type_count.keys())\n",
        "counts = list(train_type_count.values())\n",
        "\n",
        "# Define colors for each type\n",
        "colors = ['skyblue', 'lightgreen']  # Add more colors if there are more types\n",
        "\n",
        "# Create a bar chart\n",
        "plt.figure(figsize=(5, 5))\n",
        "bars = plt.bar(types, counts, color=colors, width=0.5)\n",
        "#plt.xlabel('Type')\n",
        "plt.ylabel('Count')\n",
        "plt.title('Tweet Type Counts')\n",
        "\n",
        "# Apply different color to each bar\n",
        "for bar, color in zip(bars, colors):\n",
        "    bar.set_color(color)\n",
        "\n",
        "plt.xticks(rotation=45)  # Rotate x-axis labels for better readability\n",
        "plt.tight_layout()  # Adjust layout to prevent clipping of labels\n",
        "plt.show()\n"
      ],
      "metadata": {
        "colab": {
          "base_uri": "https://localhost:8080/",
          "height": 507
        },
        "id": "1Pv4PS8k_st1",
        "outputId": "a0410f18-ad65-4de3-c9f9-83c621918eeb"
      },
      "id": "1Pv4PS8k_st1",
      "execution_count": 16,
      "outputs": [
        {
          "output_type": "display_data",
          "data": {
            "text/plain": [
              "<Figure size 500x500 with 1 Axes>"
            ],
            "image/png": "[encoded data removed]"
          },
          "metadata": {}
        }
      ]
    },
    {
      "cell_type": "code",
      "execution_count": 4,
      "id": "76a4cbbc-bde8-4dd8-86cd-6635938fea03",
      "metadata": {
        "id": "76a4cbbc-bde8-4dd8-86cd-6635938fea03",
        "outputId": "c3c02e49-dfa7-4a68-f19e-5920ce112d60",
        "colab": {
          "base_uri": "https://localhost:8080/"
        }
      },
      "outputs": [
        {
          "output_type": "stream",
          "name": "stdout",
          "text": [
            "{'O': 0, 'Appeal_to_Values': 1, 'Loaded_Language': 2, 'Consequential_Oversimplification': 3, 'Causal_Oversimplification': 4, 'Questioning_the_Reputation': 5, 'Straw_Man': 6, 'Repetition': 7, 'Guilt_by_Association': 8, 'Appeal_to_Hypocrisy': 9, 'Conversation_Killer': 10, 'False_Dilemma-No_Choice': 11, 'Whataboutism': 12, 'Slogans': 13, 'Obfuscation-Vagueness-Confusion': 14, 'Name_Calling-Labeling': 15, 'Flag_Waving': 16, 'Doubt': 17, 'Appeal_to_Fear-Prejudice': 18, 'Exaggeration-Minimisation': 19, 'Red_Herring': 20, 'Appeal_to_Popularity': 21, 'Appeal_to_Authority': 22, 'Appeal_to_Time': 23}\n",
            "{0: 'O', 1: 'Appeal_to_Values', 2: 'Loaded_Language', 3: 'Consequential_Oversimplification', 4: 'Causal_Oversimplification', 5: 'Questioning_the_Reputation', 6: 'Straw_Man', 7: 'Repetition', 8: 'Guilt_by_Association', 9: 'Appeal_to_Hypocrisy', 10: 'Conversation_Killer', 11: 'False_Dilemma-No_Choice', 12: 'Whataboutism', 13: 'Slogans', 14: 'Obfuscation-Vagueness-Confusion', 15: 'Name_Calling-Labeling', 16: 'Flag_Waving', 17: 'Doubt', 18: 'Appeal_to_Fear-Prejudice', 19: 'Exaggeration-Minimisation', 20: 'Red_Herring', 21: 'Appeal_to_Popularity', 22: 'Appeal_to_Authority', 23: 'Appeal_to_Time'}\n"
          ]
        }
      ],
      "source": [
        "propaganda_techniques = ['Appeal_to_Values', 'Loaded_Language', 'Consequential_Oversimplification',\n",
        "                         'Causal_Oversimplification', 'Questioning_the_Reputation', 'Straw_Man', 'Repetition',\n",
        "                         'Guilt_by_Association', 'Appeal_to_Hypocrisy', 'Conversation_Killer',\n",
        "                         'False_Dilemma-No_Choice', 'Whataboutism', 'Slogans',\n",
        "                         'Obfuscation-Vagueness-Confusion',\n",
        "                         'Name_Calling-Labeling', 'Flag_Waving', 'Doubt',\n",
        "                         'Appeal_to_Fear-Prejudice', 'Exaggeration-Minimisation', 'Red_Herring',\n",
        "                         'Appeal_to_Popularity', 'Appeal_to_Authority', 'Appeal_to_Time']\n",
        "\n",
        "# Create a dictionary to hold label to id mapping\n",
        "label_to_id = {'O': 0}  # 'O' stands for \"Outside\" any tagged segment\n",
        "\n",
        "next_id = 1\n",
        "for technique in propaganda_techniques:\n",
        "    label_to_id[technique] = next_id\n",
        "    next_id += 1\n",
        "print(label_to_id)\n",
        "# Reverse the label-to-ID mapping to create ID-to-label mapping\n",
        "id_to_label = {v: k for k, v in label_to_id.items()}\n",
        "print(id_to_label)"
      ]
    },
    {
      "cell_type": "code",
      "execution_count": 5,
      "id": "4383e464-f7ba-4da7-b386-6a224e2c8331",
      "metadata": {
        "id": "4383e464-f7ba-4da7-b386-6a224e2c8331"
      },
      "outputs": [],
      "source": [
        "def create_bio_tags(text, labels, tokenizer):\n",
        "    # Tokenize text and create mappings from tokens to their character positions\n",
        "    encoded = tokenizer.encode_plus(text, return_offsets_mapping=True, add_special_tokens=True)\n",
        "    tokens = tokenizer.convert_ids_to_tokens(encoded['input_ids'])\n",
        "    offset_mapping = encoded['offset_mapping']\n",
        "\n",
        "    # Initialize token tags as 'O'\n",
        "    token_tags = ['O'] * len(tokens)\n",
        "    # print(text)\n",
        "    # Assign B-I tags based on the offset mapping and labels\n",
        "    for label in labels:\n",
        "        label_start = label['start']+1\n",
        "        label_end = label['end']-1   # Adjust to be inclusive\n",
        "        label_type = label['technique']\n",
        "\n",
        "        # Find the first and last token covered by this label\n",
        "        in_entity = False\n",
        "        for i, (start, end) in enumerate(offset_mapping):\n",
        "            if start > label_end:\n",
        "                break\n",
        "            if end < label_start:\n",
        "                continue\n",
        "\n",
        "            if start == label_start or (not in_entity and start < label_end):\n",
        "                token_tags[i] = f\"{label_type}\"\n",
        "                in_entity = True\n",
        "            elif in_entity and start <= label_end:\n",
        "                token_tags[i] = f\"{label_type}\"\n",
        "\n",
        "        # Reset for next label\n",
        "        in_entity = False\n",
        "\n",
        "    return tokens, token_tags"
      ]
    },
    {
      "cell_type": "code",
      "execution_count": 6,
      "id": "b8e8880d-4c7a-4883-a249-db53c79f0b91",
      "metadata": {
        "id": "b8e8880d-4c7a-4883-a249-db53c79f0b91",
        "colab": {
          "base_uri": "https://localhost:8080/",
          "height": 304,
          "referenced_widgets": [
            "4ce111daafe34d968619f39a10fc9d13",
            "3db7962b91004462bfba18ed08fcb8f8",
            "8bc3e0a44baf435985e4568f48ab2c27",
            "b529d4abdb7343bea8a8b34ad4d80f55",
            "5b6cbd6c27d94dd8aed21d76eee2ae09",
            "fb9e53e3690b42c29b528e6257325678",
            "632c1ab6a8b04bebbccdc37cb3939072",
            "10933fe601644fa4a6cb34995d077385",
            "8b2f2a6f88c64b89b6c33619dea76ec7",
            "dbacfac64d974ad8a9c81cb699a0dfd6",
            "b5f276c88a6341429cf1def8eaf70dbc",
            "8cb4fc7ae6af424f8db56afcc07de5b5",
            "57084d25f64a404c8644ea48c312b76a",
            "7768f060b35e4e0a803ec46c5fcae122",
            "b8fa4da0d9dc45e2b8cbfa4bef49364a",
            "a7e7419bb9544f13aa081d2a47800581",
            "60cb97697e6d4dc68dcf0125d13177f8",
            "fa96f1711f534ae185563fe5e09271df",
            "7d05e5d3ce274deebaf132113908eac5",
            "6a5b11d9ab0948cbb1f2965026d10af7",
            "779454c372df4c1a866bb198c2bc86bf",
            "4e4ea3f6c3834923af43160e0dba99f0",
            "4a541e464ab1403bae3e7d9aa41d60d5",
            "0eedad15e84a495da0c6849838cd0716",
            "d3db107ef9344639a7310d1d2899d952",
            "984a343bc5ea4a2f984dd7dcd7dba412",
            "4091143d66e24093bf8b7a7cb1e4ea65",
            "36a29cac1db149bdb6ef292641465d4c",
            "de3c5dbe5e0d48fbb3ad4ccd5b75d0d9",
            "7c0bf73c19bc448889e576b4a1476772",
            "7155bb0ddda84b5b82c4ff296d9e8e57",
            "78525b7c37de4fff91afb3c65a308d33",
            "07ca398498094a57a1c77729fce64e37",
            "3450407479754d71aabaa732d294b087",
            "990767fae3f5410d8b632b261be37f10",
            "f33d09e13ce04e89bdf7198cb6a18cec",
            "526e6c07b9b34da28531587fef341ebb",
            "efe9b3dccbb0486bb06ab907a74f7e15",
            "57590bf6ca65493bb236da8050dbb781",
            "aabb6b74891145938262706bd1288a39",
            "efe6d2415ad444c58a048bebf8879a0d",
            "8df7df52cc6a42b5afb38c4eaf68601d",
            "37eeb2c908f8494c8ee64a0bd90ff939",
            "2a1bc088b3b743d6bb238e60bef2e05a",
            "8e79bb1fdeb84b79bd0ce52a5d559abf",
            "3919d55b490147ce97e1b905ffe5a1ac",
            "d36a234a29d9444da98ac8d7d615f33c",
            "20f19d9a2ea342f8b7a22db5a8bd4161",
            "0dc458de42d64e3494a8a87b30af0ce7",
            "3d034cba75a14ed1acf3e5614af6749b",
            "929ed09e819b4fbd9d93179e98630677",
            "2bee90c3fe5e4a299953ea42cf997342",
            "ce7f28d79b644e4ea48b8be2c0c24fb1",
            "f62831ff38ec4f93a442d63614ffaa71",
            "68cc9085c89b482e96254b7e79d26ed1"
          ]
        },
        "outputId": "cae7095f-2544-4b6f-fcb2-2e3014c31ac8"
      },
      "outputs": [
        {
          "output_type": "stream",
          "name": "stderr",
          "text": [
            "/usr/local/lib/python3.10/dist-packages/huggingface_hub/utils/_token.py:88: UserWarning: \n",
            "The secret `HF_TOKEN` does not exist in your Colab secrets.\n",
            "To authenticate with the Hugging Face Hub, create a token in your settings tab (https://huggingface.co/settings/tokens), set it as secret in your Google Colab and restart your session.\n",
            "You will be able to reuse this secret in all of your notebooks.\n",
            "Please note that authentication is recommended but still optional to access public models or datasets.\n",
            "  warnings.warn(\n"
          ]
        },
        {
          "output_type": "display_data",
          "data": {
            "text/plain": [
              "tokenizer_config.json:   0%|          | 0.00/611 [00:00<?, ?B/s]"
            ],
            "application/vnd.jupyter.widget-view+json": {
              "version_major": 2,
              "version_minor": 0,
              "model_id": "4ce111daafe34d968619f39a10fc9d13"
            }
          },
          "metadata": {}
        },
        {
          "output_type": "display_data",
          "data": {
            "text/plain": [
              "config.json:   0%|          | 0.00/384 [00:00<?, ?B/s]"
            ],
            "application/vnd.jupyter.widget-view+json": {
              "version_major": 2,
              "version_minor": 0,
              "model_id": "8cb4fc7ae6af424f8db56afcc07de5b5"
            }
          },
          "metadata": {}
        },
        {
          "output_type": "display_data",
          "data": {
            "text/plain": [
              "vocab.txt:   0%|          | 0.00/720k [00:00<?, ?B/s]"
            ],
            "application/vnd.jupyter.widget-view+json": {
              "version_major": 2,
              "version_minor": 0,
              "model_id": "4a541e464ab1403bae3e7d9aa41d60d5"
            }
          },
          "metadata": {}
        },
        {
          "output_type": "display_data",
          "data": {
            "text/plain": [
              "tokenizer.json:   0%|          | 0.00/2.31M [00:00<?, ?B/s]"
            ],
            "application/vnd.jupyter.widget-view+json": {
              "version_major": 2,
              "version_minor": 0,
              "model_id": "3450407479754d71aabaa732d294b087"
            }
          },
          "metadata": {}
        },
        {
          "output_type": "display_data",
          "data": {
            "text/plain": [
              "special_tokens_map.json:   0%|          | 0.00/112 [00:00<?, ?B/s]"
            ],
            "application/vnd.jupyter.widget-view+json": {
              "version_major": 2,
              "version_minor": 0,
              "model_id": "8e79bb1fdeb84b79bd0ce52a5d559abf"
            }
          },
          "metadata": {}
        }
      ],
      "source": [
        "from torch.utils.data import Dataset, DataLoader\n",
        "from transformers import AutoTokenizer\n",
        "from torch.nn.utils.rnn import pad_sequence\n",
        "import torch\n",
        "\n",
        "class PropagandaDataset(Dataset):\n",
        "    def __init__(self, entries, tokenizer, label_to_id, max_length=128):\n",
        "        self.entries = entries\n",
        "        self.tokenizer = tokenizer\n",
        "        self.label_to_id = label_to_id\n",
        "        self.max_length = max_length\n",
        "\n",
        "    def __len__(self):\n",
        "        return len(self.entries)\n",
        "\n",
        "    def __getitem__(self, idx):\n",
        "        entry = self.entries[idx]\n",
        "        text = entry['text']\n",
        "        labels = entry['labels']\n",
        "        id = entry[\"id\"]\n",
        "        tokens, bio_tags = create_bio_tags(text, labels, self.tokenizer)\n",
        "        token_ids = self.tokenizer.convert_tokens_to_ids(tokens)\n",
        "        label_ids = [self.label_to_id.get(tag, self.label_to_id['O']) for tag in bio_tags]\n",
        "        words = [self.tokenizer.decode(token) for token in token_ids]\n",
        "        token_ids = token_ids[:self.max_length]\n",
        "        label_ids = label_ids[:self.max_length]\n",
        "\n",
        "        return {\n",
        "            \"id\" : id,\n",
        "            \"text\": entry['text'],\n",
        "            \"words\": words,\n",
        "            'input_ids': torch.tensor(token_ids, dtype=torch.long),\n",
        "            'labels': torch.tensor(label_ids, dtype=torch.long),\n",
        "            'attention_mask': torch.tensor([1]*len(token_ids), dtype=torch.long)\n",
        "        }\n",
        "\n",
        "def create_data_loader(dataset, batch_size=16):\n",
        "    def collate_fn(batch):\n",
        "        input_ids = pad_sequence([item['input_ids'] for item in batch], batch_first=True, padding_value=0)\n",
        "        labels = pad_sequence([item['labels'] for item in batch], batch_first=True, padding_value=-100)\n",
        "        attention_mask = pad_sequence([item['attention_mask'] for item in batch], batch_first=True, padding_value=0)\n",
        "        id = [item['id'] for item in batch]\n",
        "        text = [item['text'] for item in batch]\n",
        "        words = [item['words'] for item in batch]\n",
        "        return {\n",
        "            'id': id,\n",
        "            'text': text,\n",
        "            \"words\": words,\n",
        "            'input_ids': input_ids,\n",
        "            'labels': labels,\n",
        "            'attention_mask': attention_mask\n",
        "        }\n",
        "\n",
        "    return DataLoader(dataset, batch_size=batch_size, collate_fn=collate_fn)\n",
        "\n",
        "\n",
        "# Load the AraBERT tokenizer\n",
        "tokenizer = AutoTokenizer.from_pretrained(\"aubmindlab/bert-base-arabertv2\")\n",
        "train_data = PropagandaDataset(train_json, tokenizer, label_to_id)\n",
        "test_data = PropagandaDataset(test_json, tokenizer, label_to_id)\n",
        "train_dataset = create_data_loader(train_data, batch_size=32)\n",
        "val_dataset = create_data_loader(test_data, batch_size=32)"
      ]
    },
    {
      "cell_type": "code",
      "execution_count": 7,
      "id": "4b74e2b5-4037-4d29-95d2-9bd874a8ae3d",
      "metadata": {
        "id": "4b74e2b5-4037-4d29-95d2-9bd874a8ae3d",
        "colab": {
          "base_uri": "https://localhost:8080/",
          "height": 105,
          "referenced_widgets": [
            "3d0ad5a713c3492ab3b886da8a96587d",
            "3bcef9b128224b9cb2fef9ee42f6dadc",
            "5d65f3cbd16a441e944e863755ffd8d5",
            "e358b7cea6eb44bd96abbe9bc94358e8",
            "6fce69ad605e42cbb0c586be26c037b1",
            "6556996d8589424584c4789c018b1069",
            "124c5cce7b7846a79880d5c77b02385d",
            "83c7409bc25d4afa8e87f22434e09110",
            "bdc5fe902fa24248a10d9b01705516f9",
            "186e1786a3bf47c8a1abb6e2cc40d362",
            "bef4e2ee8a2c401fa410e63773db785d"
          ]
        },
        "outputId": "7e5b4668-21c8-4de2-f7fc-da7c990e4881"
      },
      "outputs": [
        {
          "output_type": "display_data",
          "data": {
            "text/plain": [
              "model.safetensors:   0%|          | 0.00/543M [00:00<?, ?B/s]"
            ],
            "application/vnd.jupyter.widget-view+json": {
              "version_major": 2,
              "version_minor": 0,
              "model_id": "3d0ad5a713c3492ab3b886da8a96587d"
            }
          },
          "metadata": {}
        },
        {
          "output_type": "stream",
          "name": "stderr",
          "text": [
            "Some weights of BertForTokenClassification were not initialized from the model checkpoint at aubmindlab/bert-base-arabertv2 and are newly initialized: ['classifier.bias', 'classifier.weight']\n",
            "You should probably TRAIN this model on a down-stream task to be able to use it for predictions and inference.\n"
          ]
        }
      ],
      "source": [
        "from transformers import AutoModelForTokenClassification, AutoConfig\n",
        "\n",
        "def initialize_model(model_name, label_to_id):\n",
        "    config = AutoConfig.from_pretrained(model_name, num_labels=len(label_to_id))\n",
        "    model = AutoModelForTokenClassification.from_pretrained(model_name, config=config)\n",
        "    return model\n",
        "\n",
        "model_name = \"aubmindlab/bert-base-arabertv2\"\n",
        "model = initialize_model(model_name, label_to_id)"
      ]
    },
    {
      "cell_type": "code",
      "execution_count": 8,
      "id": "7e776276-e270-4f42-a637-6f8ff85a9f09",
      "metadata": {
        "id": "7e776276-e270-4f42-a637-6f8ff85a9f09"
      },
      "outputs": [],
      "source": [
        "import torch\n",
        "from torch.optim import AdamW\n",
        "from torch.utils.data import DataLoader\n",
        "import torch.nn as nn\n",
        "import tqdm\n",
        "\n",
        "# # Assuming you have a dataset and a dataloader\n",
        "# train_dataset = PropagandaDataset(data_samples, tokenizer, label_to_id, max_length=128)\n",
        "train_dataset = PropagandaDataset(train_json, tokenizer, label_to_id)\n",
        "test_dataset = PropagandaDataset(test_json, tokenizer, label_to_id)\n",
        "# train_loader = DataLoader(train_dataset, batch_size=16, shuffle=True)\n",
        "# train_loader = DataLoader(test_dataset, batch_size=16, shuffle=False)\n",
        "train_loader = create_data_loader(train_dataset, batch_size=32)\n",
        "val_loader = create_data_loader(test_dataset, batch_size=32)\n",
        "\n",
        "\n",
        "# Prepare optimizer\n",
        "optimizer = AdamW(model.parameters(), lr=5e-5)\n",
        "\n",
        "# Move model to GPU if available\n",
        "device = torch.device(\"cuda\" if torch.cuda.is_available() else \"cpu\")\n",
        "model.to(device)\n",
        "\n",
        "# # Set the model in training mode\n",
        "# model.train()\n",
        "\n",
        "# Loss function\n",
        "loss_fn = nn.CrossEntropyLoss(ignore_index=-100)\n",
        "\n",
        "def run_epoch(dataloader, is_training):\n",
        "    if is_training:\n",
        "        model.train()\n",
        "    else:\n",
        "        model.eval()\n",
        "\n",
        "    total_loss = 0\n",
        "    total_correct = 0\n",
        "    total_elements = 0\n",
        "    pbar = tqdm.tqdm(dataloader)\n",
        "    pbar.set_description(\"Training Epoch_\")\n",
        "    for batch_idx, batch in enumerate(pbar):\n",
        "        input_ids = batch['input_ids'].to(device)\n",
        "        attention_mask = batch['attention_mask'].to(device)\n",
        "        labels = batch['labels'].to(device)\n",
        "\n",
        "        with torch.set_grad_enabled(is_training):\n",
        "            outputs = model(input_ids, attention_mask=attention_mask, labels=labels)\n",
        "            loss = outputs.loss\n",
        "\n",
        "            if is_training:\n",
        "                optimizer.zero_grad()\n",
        "                loss.backward()\n",
        "                optimizer.step()\n",
        "\n",
        "        total_loss += loss.item()\n",
        "\n",
        "        # Calculate the accuracy\n",
        "        predictions = outputs.logits.argmax(-1)\n",
        "        mask = labels != -100\n",
        "        correct = (predictions == labels) * mask\n",
        "        total_correct += correct.sum().item()\n",
        "        total_elements += mask.sum().item()\n",
        "    # result = compute_metrics((predictions.detach().cpu().numpy() , labels.detach().cpu().numpy()))\n",
        "    average_loss = total_loss / len(dataloader)\n",
        "    accuracy = total_correct / total_elements\n",
        "    return average_loss, accuracy\n"
      ]
    },
    {
      "cell_type": "code",
      "source": [
        "# Training and validation loop\n",
        "num_epochs = 10\n",
        "best_val = 0\n",
        "for epoch in range(num_epochs):\n",
        "    train_loss, train_accuracy = run_epoch(train_loader, is_training=True)\n",
        "    val_loss, val_accuracy = run_epoch(val_loader, is_training=False)\n",
        "    if val_accuracy> best_val:\n",
        "        best_val = val_accuracy\n",
        "        best_model_weights = model.state_dict()\n",
        "        torch.save(best_model_weights, f'text_model_weights.pth')\n",
        "        print(\"best_weights_save\")\n",
        "    print(f\"Epoch {epoch + 1}/{num_epochs}\")\n",
        "    print(f\"Training loss: {train_loss:.4f}, accuracy: {train_accuracy:.4f}\")\n",
        "    print(f\"Validation loss: {val_loss:.4f}, accuracy: {val_accuracy:.4f}\")"
      ],
      "metadata": {
        "id": "y81h10sJKJg-"
      },
      "id": "y81h10sJKJg-",
      "execution_count": null,
      "outputs": []
    },
    {
      "cell_type": "code",
      "source": [
        "import matplotlib.pyplot as plt\n",
        "\n",
        "# Training and validation loop\n",
        "num_epochs = 10\n",
        "best_val = 0\n",
        "train_losses = []\n",
        "val_losses = []\n",
        "train_accuracy_list = []  # Use a different variable name for accuracy list\n",
        "val_accuracy_list = []    # Use a different variable name for accuracy list\n",
        "\n",
        "for epoch in range(num_epochs):\n",
        "    train_loss, train_accuracy_val = run_epoch(train_loader, is_training=True)\n",
        "    val_loss, val_accuracy_val = run_epoch(val_loader, is_training=False)\n",
        "\n",
        "    train_losses.append(train_loss)\n",
        "    val_losses.append(val_loss)\n",
        "\n",
        "    train_accuracy_list.append(train_accuracy_val)  # Append accuracy to the list\n",
        "    val_accuracy_list.append(val_accuracy_val)      # Append accuracy to the list\n",
        "\n",
        "    if val_accuracy_val > best_val:\n",
        "        best_val = val_accuracy_val\n",
        "        best_model_weights = model.state_dict()\n",
        "        torch.save(best_model_weights, f'text_model_weights.pth')\n",
        "        print(\"best_weights_save\")\n",
        "\n",
        "    print(f\"Epoch {epoch + 1}/{num_epochs}\")\n",
        "    print(f\"Training loss: {train_loss:.4f}, accuracy: {train_accuracy_val:.4f}\")  # Use train_accuracy_val here\n",
        "    print(f\"Validation loss: {val_loss:.4f}, accuracy: {val_accuracy_val:.4f}\")    # Use val_accuracy_val here\n",
        "\n",
        "# Plot training and validation loss curves\n",
        "plt.figure(figsize=(10, 6))\n",
        "epochs = range(1, num_epochs + 1)\n",
        "plt.plot(epochs, train_losses, label='Training Loss', marker='o', color='blue')\n",
        "plt.plot(epochs, val_losses, label='Validation Loss', marker='o', color='orange')\n",
        "plt.xlabel('Epoch')\n",
        "plt.ylabel('Loss')\n",
        "plt.title('Training and Validation Loss Curves')\n",
        "plt.legend()\n",
        "plt.grid(True)\n",
        "plt.show()\n"
      ],
      "metadata": {
        "id": "qVKduYHGFWdK",
        "outputId": "9ccb96ff-da52-4e53-acd1-336f4eded3f1",
        "colab": {
          "base_uri": "https://localhost:8080/",
          "height": 1000
        }
      },
      "id": "qVKduYHGFWdK",
      "execution_count": 12,
      "outputs": [
        {
          "output_type": "stream",
          "name": "stderr",
          "text": [
            "Training Epoch_: 100%|██████████| 219/219 [02:21<00:00,  1.55it/s]\n",
            "Training Epoch_: 100%|██████████| 29/29 [00:06<00:00,  4.35it/s]\n"
          ]
        },
        {
          "output_type": "stream",
          "name": "stdout",
          "text": [
            "best_weights_save\n",
            "Epoch 1/10\n",
            "Training loss: 1.0180, accuracy: 0.7773\n",
            "Validation loss: 1.0928, accuracy: 0.7555\n"
          ]
        },
        {
          "output_type": "stream",
          "name": "stderr",
          "text": [
            "Training Epoch_: 100%|██████████| 219/219 [02:27<00:00,  1.48it/s]\n",
            "Training Epoch_: 100%|██████████| 29/29 [00:06<00:00,  4.20it/s]\n"
          ]
        },
        {
          "output_type": "stream",
          "name": "stdout",
          "text": [
            "Epoch 2/10\n",
            "Training loss: 0.9009, accuracy: 0.7832\n",
            "Validation loss: 1.0840, accuracy: 0.7529\n"
          ]
        },
        {
          "output_type": "stream",
          "name": "stderr",
          "text": [
            "Training Epoch_: 100%|██████████| 219/219 [02:28<00:00,  1.48it/s]\n",
            "Training Epoch_: 100%|██████████| 29/29 [00:06<00:00,  4.14it/s]\n"
          ]
        },
        {
          "output_type": "stream",
          "name": "stdout",
          "text": [
            "Epoch 3/10\n",
            "Training loss: 0.7974, accuracy: 0.7948\n",
            "Validation loss: 1.0756, accuracy: 0.7420\n"
          ]
        },
        {
          "output_type": "stream",
          "name": "stderr",
          "text": [
            "Training Epoch_: 100%|██████████| 219/219 [02:28<00:00,  1.48it/s]\n",
            "Training Epoch_: 100%|██████████| 29/29 [00:06<00:00,  4.18it/s]\n"
          ]
        },
        {
          "output_type": "stream",
          "name": "stdout",
          "text": [
            "Epoch 4/10\n",
            "Training loss: 0.8100, accuracy: 0.7959\n",
            "Validation loss: 1.2024, accuracy: 0.7011\n"
          ]
        },
        {
          "output_type": "stream",
          "name": "stderr",
          "text": [
            "Training Epoch_: 100%|██████████| 219/219 [02:28<00:00,  1.48it/s]\n",
            "Training Epoch_: 100%|██████████| 29/29 [00:06<00:00,  4.33it/s]\n"
          ]
        },
        {
          "output_type": "stream",
          "name": "stdout",
          "text": [
            "Epoch 5/10\n",
            "Training loss: 0.6564, accuracy: 0.8219\n",
            "Validation loss: 1.1728, accuracy: 0.6837\n"
          ]
        },
        {
          "output_type": "stream",
          "name": "stderr",
          "text": [
            "Training Epoch_: 100%|██████████| 219/219 [02:28<00:00,  1.47it/s]\n",
            "Training Epoch_: 100%|██████████| 29/29 [00:06<00:00,  4.31it/s]\n"
          ]
        },
        {
          "output_type": "stream",
          "name": "stdout",
          "text": [
            "Epoch 6/10\n",
            "Training loss: 0.5575, accuracy: 0.8434\n",
            "Validation loss: 1.1760, accuracy: 0.7154\n"
          ]
        },
        {
          "output_type": "stream",
          "name": "stderr",
          "text": [
            "Training Epoch_: 100%|██████████| 219/219 [02:28<00:00,  1.48it/s]\n",
            "Training Epoch_: 100%|██████████| 29/29 [00:06<00:00,  4.18it/s]\n"
          ]
        },
        {
          "output_type": "stream",
          "name": "stdout",
          "text": [
            "best_weights_save\n",
            "Epoch 7/10\n",
            "Training loss: 0.4843, accuracy: 0.8615\n",
            "Validation loss: 1.2493, accuracy: 0.7572\n"
          ]
        },
        {
          "output_type": "stream",
          "name": "stderr",
          "text": [
            "Training Epoch_: 100%|██████████| 219/219 [02:28<00:00,  1.48it/s]\n",
            "Training Epoch_: 100%|██████████| 29/29 [00:06<00:00,  4.22it/s]\n"
          ]
        },
        {
          "output_type": "stream",
          "name": "stdout",
          "text": [
            "best_weights_save\n",
            "Epoch 8/10\n",
            "Training loss: 0.4405, accuracy: 0.8728\n",
            "Validation loss: 1.3069, accuracy: 0.7637\n"
          ]
        },
        {
          "output_type": "stream",
          "name": "stderr",
          "text": [
            "Training Epoch_: 100%|██████████| 219/219 [02:28<00:00,  1.47it/s]\n",
            "Training Epoch_: 100%|██████████| 29/29 [00:06<00:00,  4.27it/s]\n"
          ]
        },
        {
          "output_type": "stream",
          "name": "stdout",
          "text": [
            "Epoch 9/10\n",
            "Training loss: 0.4116, accuracy: 0.8794\n",
            "Validation loss: 1.3291, accuracy: 0.7549\n"
          ]
        },
        {
          "output_type": "stream",
          "name": "stderr",
          "text": [
            "Training Epoch_: 100%|██████████| 219/219 [02:28<00:00,  1.48it/s]\n",
            "Training Epoch_: 100%|██████████| 29/29 [00:06<00:00,  4.16it/s]\n"
          ]
        },
        {
          "output_type": "stream",
          "name": "stdout",
          "text": [
            "Epoch 10/10\n",
            "Training loss: 0.3324, accuracy: 0.9017\n",
            "Validation loss: 1.3013, accuracy: 0.7412\n"
          ]
        },
        {
          "output_type": "display_data",
          "data": {
            "text/plain": [
              "<Figure size 1000x600 with 1 Axes>"
            ],
            "image/png": "[encoded data removed]"
          },
          "metadata": {}
        }
      ]
    },
    {
      "cell_type": "code",
      "source": [
        "# Plot training and validation loss curves\n",
        "plt.figure(figsize=(10, 6))\n",
        "epochs = range(1, num_epochs + 1)\n",
        "plt.plot(epochs, train_accuracy_list, label='Training Accuracy', marker='o', color='blue')\n",
        "plt.plot(epochs, val_accuracy_list, label='Validation Accuracy', marker='o', color='orange')\n",
        "plt.xlabel('Epoch')\n",
        "plt.ylabel('Accuracy')\n",
        "plt.title('Training and Validation Accuracy Curves')\n",
        "plt.legend()\n",
        "plt.grid(True)\n",
        "plt.show()"
      ],
      "metadata": {
        "id": "3NDhI3cfB20r",
        "outputId": "44719f75-6c16-4e29-fdab-33f3908d655f",
        "colab": {
          "base_uri": "https://localhost:8080/",
          "height": 564
        }
      },
      "id": "3NDhI3cfB20r",
      "execution_count": 15,
      "outputs": [
        {
          "output_type": "display_data",
          "data": {
            "text/plain": [
              "<Figure size 1000x600 with 1 Axes>"
            ],
            "image/png": "[encoded data removed]"
          },
          "metadata": {}
        }
      ]
    },
    {
      "cell_type": "code",
      "source": [],
      "metadata": {
        "id": "1MWtFvN6Cbb4"
      },
      "id": "1MWtFvN6Cbb4",
      "execution_count": null,
      "outputs": []
    },
    {
      "cell_type": "code",
      "execution_count": null,
      "id": "641a706f-1aa9-47ad-9f13-f7c84809f6c9",
      "metadata": {
        "id": "641a706f-1aa9-47ad-9f13-f7c84809f6c9"
      },
      "outputs": [],
      "source": [
        "def find_number_indices(lst, num):\n",
        "    start_index = None\n",
        "    end_index = None\n",
        "    for i, value in enumerate(lst):\n",
        "        if value == num:\n",
        "            if start_index is None:\n",
        "                start_index = i\n",
        "            end_index = i\n",
        "    return start_index, end_index\n",
        "\n",
        "def find_phrase_indices(text, phrase):\n",
        "    start_index = text.find(phrase)\n",
        "    end_index = start_index + len(phrase)  # Calculate the end index based on the length of the phrase\n",
        "    return start_index, end_index\n",
        "\n",
        "def reconstruct_text_first(tokenized_text):\n",
        "    reconstructed_text = []\n",
        "    for token in tokenized_text:\n",
        "        if token.startswith(\"##\") and reconstructed_text:\n",
        "            # Append the suffix of the token to the last word in the reconstructed text\n",
        "            reconstructed_text[-1] += token[2:]\n",
        "        else:\n",
        "            # If the token doesn't start with \"##\" or it's the first token, just append it\n",
        "            reconstructed_text.append(token)\n",
        "    return reconstructed_text\n",
        "\n",
        "def create_label_format(sample_text, labels, words_token):\n",
        "    unique_elements = list(set(labels.cpu().numpy()))\n",
        "    output = []\n",
        "    for l in unique_elements:\n",
        "        if l!=0:\n",
        "            start, end = find_number_indices(labels, l)\n",
        "            if start == end:\n",
        "                spans = words_token[start]\n",
        "            else:\n",
        "                spans = words_token[start: end]\n",
        "\n",
        "                spans = reconstruct_text_first(spans)\n",
        "\n",
        "                spans = ' '.join(spans)\n",
        "            start, end = find_phrase_indices(sample_text, spans)\n",
        "            lab = id_to_label[l]\n",
        "            output.append({\"start\": start, \"end\": end, \"technique\": lab, \"text\": spans})\n",
        "            sorted_data = sorted(output, key=lambda x: x['start'])\n",
        "    return output"
      ]
    },
    {
      "cell_type": "code",
      "execution_count": null,
      "id": "5e5879d5-7fe6-4b2c-834e-647d1c23bc7b",
      "metadata": {
        "id": "5e5879d5-7fe6-4b2c-834e-647d1c23bc7b"
      },
      "outputs": [],
      "source": [
        "import json\n",
        "\n",
        "with open(\"araieval24_task1_team_unbeaten.jsonl\", \"w\", encoding=\"utf-8\") as file:\n",
        "    for data in val_loader:\n",
        "        input_ids = data['input_ids'].to(device)\n",
        "        attention_mask = data['attention_mask'].to(device)\n",
        "        # labels = data['labels'].to(device)\n",
        "        #model.to(device)\n",
        "        outputs = model(input_ids)\n",
        "        prediction = outputs.logits.argmax(-1)\n",
        "        for id, mask, text, words, pred in zip(data[\"id\"], data[\"attention_mask\"], data[\"text\"], data[\"words\"], prediction):\n",
        "            output_label = create_label_format(text, pred[:sum(mask)], words[:sum(mask)])\n",
        "            line_json = {\"id\": id,\n",
        "                        \"labels\": output_label}\n",
        "            line_json_str = json.dumps(line_json, ensure_ascii=False)\n",
        "            file.write(line_json_str + '\\n')  # Add newline character to separate each JSON object\n"
      ]
    },
    {
      "cell_type": "code",
      "execution_count": null,
      "id": "106da447-4d24-49c4-98d5-4c6ca3a46b54",
      "metadata": {
        "id": "106da447-4d24-49c4-98d5-4c6ca3a46b54"
      },
      "outputs": [],
      "source": []
    }
  ],
  "metadata": {
    "kernelspec": {
      "display_name": "Python 3",
      "name": "python3"
    },
    "language_info": {
      "codemirror_mode": {
        "name": "ipython",
        "version": 3
      },
      "file_extension": ".py",
      "mimetype": "text/x-python",
      "name": "python",
      "nbconvert_exporter": "python",
      "pygments_lexer": "ipython3",
      "version": "3.9.7"
    },
    "colab": {
      "provenance": [],
      "gpuType": "T4"
    },
    "accelerator": "GPU",
    "widgets": {
      "application/vnd.jupyter.widget-state+json": {
        "4ce111daafe34d968619f39a10fc9d13": {
          "model_module": "@jupyter-widgets/controls",
          "model_name": "HBoxModel",
          "model_module_version": "1.5.0",
          "state": {
            "_dom_classes": [],
            "_model_module": "@jupyter-widgets/controls",
            "_model_module_version": "1.5.0",
            "_model_name": "HBoxModel",
            "_view_count": null,
            "_view_module": "@jupyter-widgets/controls",
            "_view_module_version": "1.5.0",
            "_view_name": "HBoxView",
            "box_style": "",
            "children": [
              "IPY_MODEL_3db7962b91004462bfba18ed08fcb8f8",
              "IPY_MODEL_8bc3e0a44baf435985e4568f48ab2c27",
              "IPY_MODEL_b529d4abdb7343bea8a8b34ad4d80f55"
            ],
            "layout": "IPY_MODEL_5b6cbd6c27d94dd8aed21d76eee2ae09"
          }
        },
        "3db7962b91004462bfba18ed08fcb8f8": {
          "model_module": "@jupyter-widgets/controls",
          "model_name": "HTMLModel",
          "model_module_version": "1.5.0",
          "state": {
            "_dom_classes": [],
            "_model_module": "@jupyter-widgets/controls",
            "_model_module_version": "1.5.0",
            "_model_name": "HTMLModel",
            "_view_count": null,
            "_view_module": "@jupyter-widgets/controls",
            "_view_module_version": "1.5.0",
            "_view_name": "HTMLView",
            "description": "",
            "description_tooltip": null,
            "layout": "IPY_MODEL_fb9e53e3690b42c29b528e6257325678",
            "placeholder": "​",
            "style": "IPY_MODEL_632c1ab6a8b04bebbccdc37cb3939072",
            "value": "tokenizer_config.json: 100%"
          }
        },
        "8bc3e0a44baf435985e4568f48ab2c27": {
          "model_module": "@jupyter-widgets/controls",
          "model_name": "FloatProgressModel",
          "model_module_version": "1.5.0",
          "state": {
            "_dom_classes": [],
            "_model_module": "@jupyter-widgets/controls",
            "_model_module_version": "1.5.0",
            "_model_name": "FloatProgressModel",
            "_view_count": null,
            "_view_module": "@jupyter-widgets/controls",
            "_view_module_version": "1.5.0",
            "_view_name": "ProgressView",
            "bar_style": "success",
            "description": "",
            "description_tooltip": null,
            "layout": "IPY_MODEL_10933fe601644fa4a6cb34995d077385",
            "max": 611,
            "min": 0,
            "orientation": "horizontal",
            "style": "IPY_MODEL_8b2f2a6f88c64b89b6c33619dea76ec7",
            "value": 611
          }
        },
        "b529d4abdb7343bea8a8b34ad4d80f55": {
          "model_module": "@jupyter-widgets/controls",
          "model_name": "HTMLModel",
          "model_module_version": "1.5.0",
          "state": {
            "_dom_classes": [],
            "_model_module": "@jupyter-widgets/controls",
            "_model_module_version": "1.5.0",
            "_model_name": "HTMLModel",
            "_view_count": null,
            "_view_module": "@jupyter-widgets/controls",
            "_view_module_version": "1.5.0",
            "_view_name": "HTMLView",
            "description": "",
            "description_tooltip": null,
            "layout": "IPY_MODEL_dbacfac64d974ad8a9c81cb699a0dfd6",
            "placeholder": "​",
            "style": "IPY_MODEL_b5f276c88a6341429cf1def8eaf70dbc",
            "value": " 611/611 [00:00&lt;00:00, 26.8kB/s]"
          }
        },
        "5b6cbd6c27d94dd8aed21d76eee2ae09": {
          "model_module": "@jupyter-widgets/base",
          "model_name": "LayoutModel",
          "model_module_version": "1.2.0",
          "state": {
            "_model_module": "@jupyter-widgets/base",
            "_model_module_version": "1.2.0",
            "_model_name": "LayoutModel",
            "_view_count": null,
            "_view_module": "@jupyter-widgets/base",
            "_view_module_version": "1.2.0",
            "_view_name": "LayoutView",
            "align_content": null,
            "align_items": null,
            "align_self": null,
            "border": null,
            "bottom": null,
            "display": null,
            "flex": null,
            "flex_flow": null,
            "grid_area": null,
            "grid_auto_columns": null,
            "grid_auto_flow": null,
            "grid_auto_rows": null,
            "grid_column": null,
            "grid_gap": null,
            "grid_row": null,
            "grid_template_areas": null,
            "grid_template_columns": null,
            "grid_template_rows": null,
            "height": null,
            "justify_content": null,
            "justify_items": null,
            "left": null,
            "margin": null,
            "max_height": null,
            "max_width": null,
            "min_height": null,
            "min_width": null,
            "object_fit": null,
            "object_position": null,
            "order": null,
            "overflow": null,
            "overflow_x": null,
            "overflow_y": null,
            "padding": null,
            "right": null,
            "top": null,
            "visibility": null,
            "width": null
          }
        },
        "fb9e53e3690b42c29b528e6257325678": {
          "model_module": "@jupyter-widgets/base",
          "model_name": "LayoutModel",
          "model_module_version": "1.2.0",
          "state": {
            "_model_module": "@jupyter-widgets/base",
            "_model_module_version": "1.2.0",
            "_model_name": "LayoutModel",
            "_view_count": null,
            "_view_module": "@jupyter-widgets/base",
            "_view_module_version": "1.2.0",
            "_view_name": "LayoutView",
            "align_content": null,
            "align_items": null,
            "align_self": null,
            "border": null,
            "bottom": null,
            "display": null,
            "flex": null,
            "flex_flow": null,
            "grid_area": null,
            "grid_auto_columns": null,
            "grid_auto_flow": null,
            "grid_auto_rows": null,
            "grid_column": null,
            "grid_gap": null,
            "grid_row": null,
            "grid_template_areas": null,
            "grid_template_columns": null,
            "grid_template_rows": null,
            "height": null,
            "justify_content": null,
            "justify_items": null,
            "left": null,
            "margin": null,
            "max_height": null,
            "max_width": null,
            "min_height": null,
            "min_width": null,
            "object_fit": null,
            "object_position": null,
            "order": null,
            "overflow": null,
            "overflow_x": null,
            "overflow_y": null,
            "padding": null,
            "right": null,
            "top": null,
            "visibility": null,
            "width": null
          }
        },
        "632c1ab6a8b04bebbccdc37cb3939072": {
          "model_module": "@jupyter-widgets/controls",
          "model_name": "DescriptionStyleModel",
          "model_module_version": "1.5.0",
          "state": {
            "_model_module": "@jupyter-widgets/controls",
            "_model_module_version": "1.5.0",
            "_model_name": "DescriptionStyleModel",
            "_view_count": null,
            "_view_module": "@jupyter-widgets/base",
            "_view_module_version": "1.2.0",
            "_view_name": "StyleView",
            "description_width": ""
          }
        },
        "10933fe601644fa4a6cb34995d077385": {
          "model_module": "@jupyter-widgets/base",
          "model_name": "LayoutModel",
          "model_module_version": "1.2.0",
          "state": {
            "_model_module": "@jupyter-widgets/base",
            "_model_module_version": "1.2.0",
            "_model_name": "LayoutModel",
            "_view_count": null,
            "_view_module": "@jupyter-widgets/base",
            "_view_module_version": "1.2.0",
            "_view_name": "LayoutView",
            "align_content": null,
            "align_items": null,
            "align_self": null,
            "border": null,
            "bottom": null,
            "display": null,
            "flex": null,
            "flex_flow": null,
            "grid_area": null,
            "grid_auto_columns": null,
            "grid_auto_flow": null,
            "grid_auto_rows": null,
            "grid_column": null,
            "grid_gap": null,
            "grid_row": null,
            "grid_template_areas": null,
            "grid_template_columns": null,
            "grid_template_rows": null,
            "height": null,
            "justify_content": null,
            "justify_items": null,
            "left": null,
            "margin": null,
            "max_height": null,
            "max_width": null,
            "min_height": null,
            "min_width": null,
            "object_fit": null,
            "object_position": null,
            "order": null,
            "overflow": null,
            "overflow_x": null,
            "overflow_y": null,
            "padding": null,
            "right": null,
            "top": null,
            "visibility": null,
            "width": null
          }
        },
        "8b2f2a6f88c64b89b6c33619dea76ec7": {
          "model_module": "@jupyter-widgets/controls",
          "model_name": "ProgressStyleModel",
          "model_module_version": "1.5.0",
          "state": {
            "_model_module": "@jupyter-widgets/controls",
            "_model_module_version": "1.5.0",
            "_model_name": "ProgressStyleModel",
            "_view_count": null,
            "_view_module": "@jupyter-widgets/base",
            "_view_module_version": "1.2.0",
            "_view_name": "StyleView",
            "bar_color": null,
            "description_width": ""
          }
        },
        "dbacfac64d974ad8a9c81cb699a0dfd6": {
          "model_module": "@jupyter-widgets/base",
          "model_name": "LayoutModel",
          "model_module_version": "1.2.0",
          "state": {
            "_model_module": "@jupyter-widgets/base",
            "_model_module_version": "1.2.0",
            "_model_name": "LayoutModel",
            "_view_count": null,
            "_view_module": "@jupyter-widgets/base",
            "_view_module_version": "1.2.0",
            "_view_name": "LayoutView",
            "align_content": null,
            "align_items": null,
            "align_self": null,
            "border": null,
            "bottom": null,
            "display": null,
            "flex": null,
            "flex_flow": null,
            "grid_area": null,
            "grid_auto_columns": null,
            "grid_auto_flow": null,
            "grid_auto_rows": null,
            "grid_column": null,
            "grid_gap": null,
            "grid_row": null,
            "grid_template_areas": null,
            "grid_template_columns": null,
            "grid_template_rows": null,
            "height": null,
            "justify_content": null,
            "justify_items": null,
            "left": null,
            "margin": null,
            "max_height": null,
            "max_width": null,
            "min_height": null,
            "min_width": null,
            "object_fit": null,
            "object_position": null,
            "order": null,
            "overflow": null,
            "overflow_x": null,
            "overflow_y": null,
            "padding": null,
            "right": null,
            "top": null,
            "visibility": null,
            "width": null
          }
        },
        "b5f276c88a6341429cf1def8eaf70dbc": {
          "model_module": "@jupyter-widgets/controls",
          "model_name": "DescriptionStyleModel",
          "model_module_version": "1.5.0",
          "state": {
            "_model_module": "@jupyter-widgets/controls",
            "_model_module_version": "1.5.0",
            "_model_name": "DescriptionStyleModel",
            "_view_count": null,
            "_view_module": "@jupyter-widgets/base",
            "_view_module_version": "1.2.0",
            "_view_name": "StyleView",
            "description_width": ""
          }
        },
        "8cb4fc7ae6af424f8db56afcc07de5b5": {
          "model_module": "@jupyter-widgets/controls",
          "model_name": "HBoxModel",
          "model_module_version": "1.5.0",
          "state": {
            "_dom_classes": [],
            "_model_module": "@jupyter-widgets/controls",
            "_model_module_version": "1.5.0",
            "_model_name": "HBoxModel",
            "_view_count": null,
            "_view_module": "@jupyter-widgets/controls",
            "_view_module_version": "1.5.0",
            "_view_name": "HBoxView",
            "box_style": "",
            "children": [
              "IPY_MODEL_57084d25f64a404c8644ea48c312b76a",
              "IPY_MODEL_7768f060b35e4e0a803ec46c5fcae122",
              "IPY_MODEL_b8fa4da0d9dc45e2b8cbfa4bef49364a"
            ],
            "layout": "IPY_MODEL_a7e7419bb9544f13aa081d2a47800581"
          }
        },
        "57084d25f64a404c8644ea48c312b76a": {
          "model_module": "@jupyter-widgets/controls",
          "model_name": "HTMLModel",
          "model_module_version": "1.5.0",
          "state": {
            "_dom_classes": [],
            "_model_module": "@jupyter-widgets/controls",
            "_model_module_version": "1.5.0",
            "_model_name": "HTMLModel",
            "_view_count": null,
            "_view_module": "@jupyter-widgets/controls",
            "_view_module_version": "1.5.0",
            "_view_name": "HTMLView",
            "description": "",
            "description_tooltip": null,
            "layout": "IPY_MODEL_60cb97697e6d4dc68dcf0125d13177f8",
            "placeholder": "​",
            "style": "IPY_MODEL_fa96f1711f534ae185563fe5e09271df",
            "value": "config.json: 100%"
          }
        },
        "7768f060b35e4e0a803ec46c5fcae122": {
          "model_module": "@jupyter-widgets/controls",
          "model_name": "FloatProgressModel",
          "model_module_version": "1.5.0",
          "state": {
            "_dom_classes": [],
            "_model_module": "@jupyter-widgets/controls",
            "_model_module_version": "1.5.0",
            "_model_name": "FloatProgressModel",
            "_view_count": null,
            "_view_module": "@jupyter-widgets/controls",
            "_view_module_version": "1.5.0",
            "_view_name": "ProgressView",
            "bar_style": "success",
            "description": "",
            "description_tooltip": null,
            "layout": "IPY_MODEL_7d05e5d3ce274deebaf132113908eac5",
            "max": 384,
            "min": 0,
            "orientation": "horizontal",
            "style": "IPY_MODEL_6a5b11d9ab0948cbb1f2965026d10af7",
            "value": 384
          }
        },
        "b8fa4da0d9dc45e2b8cbfa4bef49364a": {
          "model_module": "@jupyter-widgets/controls",
          "model_name": "HTMLModel",
          "model_module_version": "1.5.0",
          "state": {
            "_dom_classes": [],
            "_model_module": "@jupyter-widgets/controls",
            "_model_module_version": "1.5.0",
            "_model_name": "HTMLModel",
            "_view_count": null,
            "_view_module": "@jupyter-widgets/controls",
            "_view_module_version": "1.5.0",
            "_view_name": "HTMLView",
            "description": "",
            "description_tooltip": null,
            "layout": "IPY_MODEL_779454c372df4c1a866bb198c2bc86bf",
            "placeholder": "​",
            "style": "IPY_MODEL_4e4ea3f6c3834923af43160e0dba99f0",
            "value": " 384/384 [00:00&lt;00:00, 32.1kB/s]"
          }
        },
        "a7e7419bb9544f13aa081d2a47800581": {
          "model_module": "@jupyter-widgets/base",
          "model_name": "LayoutModel",
          "model_module_version": "1.2.0",
          "state": {
            "_model_module": "@jupyter-widgets/base",
            "_model_module_version": "1.2.0",
            "_model_name": "LayoutModel",
            "_view_count": null,
            "_view_module": "@jupyter-widgets/base",
            "_view_module_version": "1.2.0",
            "_view_name": "LayoutView",
            "align_content": null,
            "align_items": null,
            "align_self": null,
            "border": null,
            "bottom": null,
            "display": null,
            "flex": null,
            "flex_flow": null,
            "grid_area": null,
            "grid_auto_columns": null,
            "grid_auto_flow": null,
            "grid_auto_rows": null,
            "grid_column": null,
            "grid_gap": null,
            "grid_row": null,
            "grid_template_areas": null,
            "grid_template_columns": null,
            "grid_template_rows": null,
            "height": null,
            "justify_content": null,
            "justify_items": null,
            "left": null,
            "margin": null,
            "max_height": null,
            "max_width": null,
            "min_height": null,
            "min_width": null,
            "object_fit": null,
            "object_position": null,
            "order": null,
            "overflow": null,
            "overflow_x": null,
            "overflow_y": null,
            "padding": null,
            "right": null,
            "top": null,
            "visibility": null,
            "width": null
          }
        },
        "60cb97697e6d4dc68dcf0125d13177f8": {
          "model_module": "@jupyter-widgets/base",
          "model_name": "LayoutModel",
          "model_module_version": "1.2.0",
          "state": {
            "_model_module": "@jupyter-widgets/base",
            "_model_module_version": "1.2.0",
            "_model_name": "LayoutModel",
            "_view_count": null,
            "_view_module": "@jupyter-widgets/base",
            "_view_module_version": "1.2.0",
            "_view_name": "LayoutView",
            "align_content": null,
            "align_items": null,
            "align_self": null,
            "border": null,
            "bottom": null,
            "display": null,
            "flex": null,
            "flex_flow": null,
            "grid_area": null,
            "grid_auto_columns": null,
            "grid_auto_flow": null,
            "grid_auto_rows": null,
            "grid_column": null,
            "grid_gap": null,
            "grid_row": null,
            "grid_template_areas": null,
            "grid_template_columns": null,
            "grid_template_rows": null,
            "height": null,
            "justify_content": null,
            "justify_items": null,
            "left": null,
            "margin": null,
            "max_height": null,
            "max_width": null,
            "min_height": null,
            "min_width": null,
            "object_fit": null,
            "object_position": null,
            "order": null,
            "overflow": null,
            "overflow_x": null,
            "overflow_y": null,
            "padding": null,
            "right": null,
            "top": null,
            "visibility": null,
            "width": null
          }
        },
        "fa96f1711f534ae185563fe5e09271df": {
          "model_module": "@jupyter-widgets/controls",
          "model_name": "DescriptionStyleModel",
          "model_module_version": "1.5.0",
          "state": {
            "_model_module": "@jupyter-widgets/controls",
            "_model_module_version": "1.5.0",
            "_model_name": "DescriptionStyleModel",
            "_view_count": null,
            "_view_module": "@jupyter-widgets/base",
            "_view_module_version": "1.2.0",
            "_view_name": "StyleView",
            "description_width": ""
          }
        },
        "7d05e5d3ce274deebaf132113908eac5": {
          "model_module": "@jupyter-widgets/base",
          "model_name": "LayoutModel",
          "model_module_version": "1.2.0",
          "state": {
            "_model_module": "@jupyter-widgets/base",
            "_model_module_version": "1.2.0",
            "_model_name": "LayoutModel",
            "_view_count": null,
            "_view_module": "@jupyter-widgets/base",
            "_view_module_version": "1.2.0",
            "_view_name": "LayoutView",
            "align_content": null,
            "align_items": null,
            "align_self": null,
            "border": null,
            "bottom": null,
            "display": null,
            "flex": null,
            "flex_flow": null,
            "grid_area": null,
            "grid_auto_columns": null,
            "grid_auto_flow": null,
            "grid_auto_rows": null,
            "grid_column": null,
            "grid_gap": null,
            "grid_row": null,
            "grid_template_areas": null,
            "grid_template_columns": null,
            "grid_template_rows": null,
            "height": null,
            "justify_content": null,
            "justify_items": null,
            "left": null,
            "margin": null,
            "max_height": null,
            "max_width": null,
            "min_height": null,
            "min_width": null,
            "object_fit": null,
            "object_position": null,
            "order": null,
            "overflow": null,
            "overflow_x": null,
            "overflow_y": null,
            "padding": null,
            "right": null,
            "top": null,
            "visibility": null,
            "width": null
          }
        },
        "6a5b11d9ab0948cbb1f2965026d10af7": {
          "model_module": "@jupyter-widgets/controls",
          "model_name": "ProgressStyleModel",
          "model_module_version": "1.5.0",
          "state": {
            "_model_module": "@jupyter-widgets/controls",
            "_model_module_version": "1.5.0",
            "_model_name": "ProgressStyleModel",
            "_view_count": null,
            "_view_module": "@jupyter-widgets/base",
            "_view_module_version": "1.2.0",
            "_view_name": "StyleView",
            "bar_color": null,
            "description_width": ""
          }
        },
        "779454c372df4c1a866bb198c2bc86bf": {
          "model_module": "@jupyter-widgets/base",
          "model_name": "LayoutModel",
          "model_module_version": "1.2.0",
          "state": {
            "_model_module": "@jupyter-widgets/base",
            "_model_module_version": "1.2.0",
            "_model_name": "LayoutModel",
            "_view_count": null,
            "_view_module": "@jupyter-widgets/base",
            "_view_module_version": "1.2.0",
            "_view_name": "LayoutView",
            "align_content": null,
            "align_items": null,
            "align_self": null,
            "border": null,
            "bottom": null,
            "display": null,
            "flex": null,
            "flex_flow": null,
            "grid_area": null,
            "grid_auto_columns": null,
            "grid_auto_flow": null,
            "grid_auto_rows": null,
            "grid_column": null,
            "grid_gap": null,
            "grid_row": null,
            "grid_template_areas": null,
            "grid_template_columns": null,
            "grid_template_rows": null,
            "height": null,
            "justify_content": null,
            "justify_items": null,
            "left": null,
            "margin": null,
            "max_height": null,
            "max_width": null,
            "min_height": null,
            "min_width": null,
            "object_fit": null,
            "object_position": null,
            "order": null,
            "overflow": null,
            "overflow_x": null,
            "overflow_y": null,
            "padding": null,
            "right": null,
            "top": null,
            "visibility": null,
            "width": null
          }
        },
        "4e4ea3f6c3834923af43160e0dba99f0": {
          "model_module": "@jupyter-widgets/controls",
          "model_name": "DescriptionStyleModel",
          "model_module_version": "1.5.0",
          "state": {
            "_model_module": "@jupyter-widgets/controls",
            "_model_module_version": "1.5.0",
            "_model_name": "DescriptionStyleModel",
            "_view_count": null,
            "_view_module": "@jupyter-widgets/base",
            "_view_module_version": "1.2.0",
            "_view_name": "StyleView",
            "description_width": ""
          }
        },
        "4a541e464ab1403bae3e7d9aa41d60d5": {
          "model_module": "@jupyter-widgets/controls",
          "model_name": "HBoxModel",
          "model_module_version": "1.5.0",
          "state": {
            "_dom_classes": [],
            "_model_module": "@jupyter-widgets/controls",
            "_model_module_version": "1.5.0",
            "_model_name": "HBoxModel",
            "_view_count": null,
            "_view_module": "@jupyter-widgets/controls",
            "_view_module_version": "1.5.0",
            "_view_name": "HBoxView",
            "box_style": "",
            "children": [
              "IPY_MODEL_0eedad15e84a495da0c6849838cd0716",
              "IPY_MODEL_d3db107ef9344639a7310d1d2899d952",
              "IPY_MODEL_984a343bc5ea4a2f984dd7dcd7dba412"
            ],
            "layout": "IPY_MODEL_4091143d66e24093bf8b7a7cb1e4ea65"
          }
        },
        "0eedad15e84a495da0c6849838cd0716": {
          "model_module": "@jupyter-widgets/controls",
          "model_name": "HTMLModel",
          "model_module_version": "1.5.0",
          "state": {
            "_dom_classes": [],
            "_model_module": "@jupyter-widgets/controls",
            "_model_module_version": "1.5.0",
            "_model_name": "HTMLModel",
            "_view_count": null,
            "_view_module": "@jupyter-widgets/controls",
            "_view_module_version": "1.5.0",
            "_view_name": "HTMLView",
            "description": "",
            "description_tooltip": null,
            "layout": "IPY_MODEL_36a29cac1db149bdb6ef292641465d4c",
            "placeholder": "​",
            "style": "IPY_MODEL_de3c5dbe5e0d48fbb3ad4ccd5b75d0d9",
            "value": "vocab.txt: 100%"
          }
        },
        "d3db107ef9344639a7310d1d2899d952": {
          "model_module": "@jupyter-widgets/controls",
          "model_name": "FloatProgressModel",
          "model_module_version": "1.5.0",
          "state": {
            "_dom_classes": [],
            "_model_module": "@jupyter-widgets/controls",
            "_model_module_version": "1.5.0",
            "_model_name": "FloatProgressModel",
            "_view_count": null,
            "_view_module": "@jupyter-widgets/controls",
            "_view_module_version": "1.5.0",
            "_view_name": "ProgressView",
            "bar_style": "success",
            "description": "",
            "description_tooltip": null,
            "layout": "IPY_MODEL_7c0bf73c19bc448889e576b4a1476772",
            "max": 719993,
            "min": 0,
            "orientation": "horizontal",
            "style": "IPY_MODEL_7155bb0ddda84b5b82c4ff296d9e8e57",
            "value": 719993
          }
        },
        "984a343bc5ea4a2f984dd7dcd7dba412": {
          "model_module": "@jupyter-widgets/controls",
          "model_name": "HTMLModel",
          "model_module_version": "1.5.0",
          "state": {
            "_dom_classes": [],
            "_model_module": "@jupyter-widgets/controls",
            "_model_module_version": "1.5.0",
            "_model_name": "HTMLModel",
            "_view_count": null,
            "_view_module": "@jupyter-widgets/controls",
            "_view_module_version": "1.5.0",
            "_view_name": "HTMLView",
            "description": "",
            "description_tooltip": null,
            "layout": "IPY_MODEL_78525b7c37de4fff91afb3c65a308d33",
            "placeholder": "​",
            "style": "IPY_MODEL_07ca398498094a57a1c77729fce64e37",
            "value": " 720k/720k [00:00&lt;00:00, 8.73MB/s]"
          }
        },
        "4091143d66e24093bf8b7a7cb1e4ea65": {
          "model_module": "@jupyter-widgets/base",
          "model_name": "LayoutModel",
          "model_module_version": "1.2.0",
          "state": {
            "_model_module": "@jupyter-widgets/base",
            "_model_module_version": "1.2.0",
            "_model_name": "LayoutModel",
            "_view_count": null,
            "_view_module": "@jupyter-widgets/base",
            "_view_module_version": "1.2.0",
            "_view_name": "LayoutView",
            "align_content": null,
            "align_items": null,
            "align_self": null,
            "border": null,
            "bottom": null,
            "display": null,
            "flex": null,
            "flex_flow": null,
            "grid_area": null,
            "grid_auto_columns": null,
            "grid_auto_flow": null,
            "grid_auto_rows": null,
            "grid_column": null,
            "grid_gap": null,
            "grid_row": null,
            "grid_template_areas": null,
            "grid_template_columns": null,
            "grid_template_rows": null,
            "height": null,
            "justify_content": null,
            "justify_items": null,
            "left": null,
            "margin": null,
            "max_height": null,
            "max_width": null,
            "min_height": null,
            "min_width": null,
            "object_fit": null,
            "object_position": null,
            "order": null,
            "overflow": null,
            "overflow_x": null,
            "overflow_y": null,
            "padding": null,
            "right": null,
            "top": null,
            "visibility": null,
            "width": null
          }
        },
        "36a29cac1db149bdb6ef292641465d4c": {
          "model_module": "@jupyter-widgets/base",
          "model_name": "LayoutModel",
          "model_module_version": "1.2.0",
          "state": {
            "_model_module": "@jupyter-widgets/base",
            "_model_module_version": "1.2.0",
            "_model_name": "LayoutModel",
            "_view_count": null,
            "_view_module": "@jupyter-widgets/base",
            "_view_module_version": "1.2.0",
            "_view_name": "LayoutView",
            "align_content": null,
            "align_items": null,
            "align_self": null,
            "border": null,
            "bottom": null,
            "display": null,
            "flex": null,
            "flex_flow": null,
            "grid_area": null,
            "grid_auto_columns": null,
            "grid_auto_flow": null,
            "grid_auto_rows": null,
            "grid_column": null,
            "grid_gap": null,
            "grid_row": null,
            "grid_template_areas": null,
            "grid_template_columns": null,
            "grid_template_rows": null,
            "height": null,
            "justify_content": null,
            "justify_items": null,
            "left": null,
            "margin": null,
            "max_height": null,
            "max_width": null,
            "min_height": null,
            "min_width": null,
            "object_fit": null,
            "object_position": null,
            "order": null,
            "overflow": null,
            "overflow_x": null,
            "overflow_y": null,
            "padding": null,
            "right": null,
            "top": null,
            "visibility": null,
            "width": null
          }
        },
        "de3c5dbe5e0d48fbb3ad4ccd5b75d0d9": {
          "model_module": "@jupyter-widgets/controls",
          "model_name": "DescriptionStyleModel",
          "model_module_version": "1.5.0",
          "state": {
            "_model_module": "@jupyter-widgets/controls",
            "_model_module_version": "1.5.0",
            "_model_name": "DescriptionStyleModel",
            "_view_count": null,
            "_view_module": "@jupyter-widgets/base",
            "_view_module_version": "1.2.0",
            "_view_name": "StyleView",
            "description_width": ""
          }
        },
        "7c0bf73c19bc448889e576b4a1476772": {
          "model_module": "@jupyter-widgets/base",
          "model_name": "LayoutModel",
          "model_module_version": "1.2.0",
          "state": {
            "_model_module": "@jupyter-widgets/base",
            "_model_module_version": "1.2.0",
            "_model_name": "LayoutModel",
            "_view_count": null,
            "_view_module": "@jupyter-widgets/base",
            "_view_module_version": "1.2.0",
            "_view_name": "LayoutView",
            "align_content": null,
            "align_items": null,
            "align_self": null,
            "border": null,
            "bottom": null,
            "display": null,
            "flex": null,
            "flex_flow": null,
            "grid_area": null,
            "grid_auto_columns": null,
            "grid_auto_flow": null,
            "grid_auto_rows": null,
            "grid_column": null,
            "grid_gap": null,
            "grid_row": null,
            "grid_template_areas": null,
            "grid_template_columns": null,
            "grid_template_rows": null,
            "height": null,
            "justify_content": null,
            "justify_items": null,
            "left": null,
            "margin": null,
            "max_height": null,
            "max_width": null,
            "min_height": null,
            "min_width": null,
            "object_fit": null,
            "object_position": null,
            "order": null,
            "overflow": null,
            "overflow_x": null,
            "overflow_y": null,
            "padding": null,
            "right": null,
            "top": null,
            "visibility": null,
            "width": null
          }
        },
        "7155bb0ddda84b5b82c4ff296d9e8e57": {
          "model_module": "@jupyter-widgets/controls",
          "model_name": "ProgressStyleModel",
          "model_module_version": "1.5.0",
          "state": {
            "_model_module": "@jupyter-widgets/controls",
            "_model_module_version": "1.5.0",
            "_model_name": "ProgressStyleModel",
            "_view_count": null,
            "_view_module": "@jupyter-widgets/base",
            "_view_module_version": "1.2.0",
            "_view_name": "StyleView",
            "bar_color": null,
            "description_width": ""
          }
        },
        "78525b7c37de4fff91afb3c65a308d33": {
          "model_module": "@jupyter-widgets/base",
          "model_name": "LayoutModel",
          "model_module_version": "1.2.0",
          "state": {
            "_model_module": "@jupyter-widgets/base",
            "_model_module_version": "1.2.0",
            "_model_name": "LayoutModel",
            "_view_count": null,
            "_view_module": "@jupyter-widgets/base",
            "_view_module_version": "1.2.0",
            "_view_name": "LayoutView",
            "align_content": null,
            "align_items": null,
            "align_self": null,
            "border": null,
            "bottom": null,
            "display": null,
            "flex": null,
            "flex_flow": null,
            "grid_area": null,
            "grid_auto_columns": null,
            "grid_auto_flow": null,
            "grid_auto_rows": null,
            "grid_column": null,
            "grid_gap": null,
            "grid_row": null,
            "grid_template_areas": null,
            "grid_template_columns": null,
            "grid_template_rows": null,
            "height": null,
            "justify_content": null,
            "justify_items": null,
            "left": null,
            "margin": null,
            "max_height": null,
            "max_width": null,
            "min_height": null,
            "min_width": null,
            "object_fit": null,
            "object_position": null,
            "order": null,
            "overflow": null,
            "overflow_x": null,
            "overflow_y": null,
            "padding": null,
            "right": null,
            "top": null,
            "visibility": null,
            "width": null
          }
        },
        "07ca398498094a57a1c77729fce64e37": {
          "model_module": "@jupyter-widgets/controls",
          "model_name": "DescriptionStyleModel",
          "model_module_version": "1.5.0",
          "state": {
            "_model_module": "@jupyter-widgets/controls",
            "_model_module_version": "1.5.0",
            "_model_name": "DescriptionStyleModel",
            "_view_count": null,
            "_view_module": "@jupyter-widgets/base",
            "_view_module_version": "1.2.0",
            "_view_name": "StyleView",
            "description_width": ""
          }
        },
        "3450407479754d71aabaa732d294b087": {
          "model_module": "@jupyter-widgets/controls",
          "model_name": "HBoxModel",
          "model_module_version": "1.5.0",
          "state": {
            "_dom_classes": [],
            "_model_module": "@jupyter-widgets/controls",
            "_model_module_version": "1.5.0",
            "_model_name": "HBoxModel",
            "_view_count": null,
            "_view_module": "@jupyter-widgets/controls",
            "_view_module_version": "1.5.0",
            "_view_name": "HBoxView",
            "box_style": "",
            "children": [
              "IPY_MODEL_990767fae3f5410d8b632b261be37f10",
              "IPY_MODEL_f33d09e13ce04e89bdf7198cb6a18cec",
              "IPY_MODEL_526e6c07b9b34da28531587fef341ebb"
            ],
            "layout": "IPY_MODEL_efe9b3dccbb0486bb06ab907a74f7e15"
          }
        },
        "990767fae3f5410d8b632b261be37f10": {
          "model_module": "@jupyter-widgets/controls",
          "model_name": "HTMLModel",
          "model_module_version": "1.5.0",
          "state": {
            "_dom_classes": [],
            "_model_module": "@jupyter-widgets/controls",
            "_model_module_version": "1.5.0",
            "_model_name": "HTMLModel",
            "_view_count": null,
            "_view_module": "@jupyter-widgets/controls",
            "_view_module_version": "1.5.0",
            "_view_name": "HTMLView",
            "description": "",
            "description_tooltip": null,
            "layout": "IPY_MODEL_57590bf6ca65493bb236da8050dbb781",
            "placeholder": "​",
            "style": "IPY_MODEL_aabb6b74891145938262706bd1288a39",
            "value": "tokenizer.json: 100%"
          }
        },
        "f33d09e13ce04e89bdf7198cb6a18cec": {
          "model_module": "@jupyter-widgets/controls",
          "model_name": "FloatProgressModel",
          "model_module_version": "1.5.0",
          "state": {
            "_dom_classes": [],
            "_model_module": "@jupyter-widgets/controls",
            "_model_module_version": "1.5.0",
            "_model_name": "FloatProgressModel",
            "_view_count": null,
            "_view_module": "@jupyter-widgets/controls",
            "_view_module_version": "1.5.0",
            "_view_name": "ProgressView",
            "bar_style": "success",
            "description": "",
            "description_tooltip": null,
            "layout": "IPY_MODEL_efe6d2415ad444c58a048bebf8879a0d",
            "max": 2306039,
            "min": 0,
            "orientation": "horizontal",
            "style": "IPY_MODEL_8df7df52cc6a42b5afb38c4eaf68601d",
            "value": 2306039
          }
        },
        "526e6c07b9b34da28531587fef341ebb": {
          "model_module": "@jupyter-widgets/controls",
          "model_name": "HTMLModel",
          "model_module_version": "1.5.0",
          "state": {
            "_dom_classes": [],
            "_model_module": "@jupyter-widgets/controls",
            "_model_module_version": "1.5.0",
            "_model_name": "HTMLModel",
            "_view_count": null,
            "_view_module": "@jupyter-widgets/controls",
            "_view_module_version": "1.5.0",
            "_view_name": "HTMLView",
            "description": "",
            "description_tooltip": null,
            "layout": "IPY_MODEL_37eeb2c908f8494c8ee64a0bd90ff939",
            "placeholder": "​",
            "style": "IPY_MODEL_2a1bc088b3b743d6bb238e60bef2e05a",
            "value": " 2.31M/2.31M [00:00&lt;00:00, 13.0MB/s]"
          }
        },
        "efe9b3dccbb0486bb06ab907a74f7e15": {
          "model_module": "@jupyter-widgets/base",
          "model_name": "LayoutModel",
          "model_module_version": "1.2.0",
          "state": {
            "_model_module": "@jupyter-widgets/base",
            "_model_module_version": "1.2.0",
            "_model_name": "LayoutModel",
            "_view_count": null,
            "_view_module": "@jupyter-widgets/base",
            "_view_module_version": "1.2.0",
            "_view_name": "LayoutView",
            "align_content": null,
            "align_items": null,
            "align_self": null,
            "border": null,
            "bottom": null,
            "display": null,
            "flex": null,
            "flex_flow": null,
            "grid_area": null,
            "grid_auto_columns": null,
            "grid_auto_flow": null,
            "grid_auto_rows": null,
            "grid_column": null,
            "grid_gap": null,
            "grid_row": null,
            "grid_template_areas": null,
            "grid_template_columns": null,
            "grid_template_rows": null,
            "height": null,
            "justify_content": null,
            "justify_items": null,
            "left": null,
            "margin": null,
            "max_height": null,
            "max_width": null,
            "min_height": null,
            "min_width": null,
            "object_fit": null,
            "object_position": null,
            "order": null,
            "overflow": null,
            "overflow_x": null,
            "overflow_y": null,
            "padding": null,
            "right": null,
            "top": null,
            "visibility": null,
            "width": null
          }
        },
        "57590bf6ca65493bb236da8050dbb781": {
          "model_module": "@jupyter-widgets/base",
          "model_name": "LayoutModel",
          "model_module_version": "1.2.0",
          "state": {
            "_model_module": "@jupyter-widgets/base",
            "_model_module_version": "1.2.0",
            "_model_name": "LayoutModel",
            "_view_count": null,
            "_view_module": "@jupyter-widgets/base",
            "_view_module_version": "1.2.0",
            "_view_name": "LayoutView",
            "align_content": null,
            "align_items": null,
            "align_self": null,
            "border": null,
            "bottom": null,
            "display": null,
            "flex": null,
            "flex_flow": null,
            "grid_area": null,
            "grid_auto_columns": null,
            "grid_auto_flow": null,
            "grid_auto_rows": null,
            "grid_column": null,
            "grid_gap": null,
            "grid_row": null,
            "grid_template_areas": null,
            "grid_template_columns": null,
            "grid_template_rows": null,
            "height": null,
            "justify_content": null,
            "justify_items": null,
            "left": null,
            "margin": null,
            "max_height": null,
            "max_width": null,
            "min_height": null,
            "min_width": null,
            "object_fit": null,
            "object_position": null,
            "order": null,
            "overflow": null,
            "overflow_x": null,
            "overflow_y": null,
            "padding": null,
            "right": null,
            "top": null,
            "visibility": null,
            "width": null
          }
        },
        "aabb6b74891145938262706bd1288a39": {
          "model_module": "@jupyter-widgets/controls",
          "model_name": "DescriptionStyleModel",
          "model_module_version": "1.5.0",
          "state": {
            "_model_module": "@jupyter-widgets/controls",
            "_model_module_version": "1.5.0",
            "_model_name": "DescriptionStyleModel",
            "_view_count": null,
            "_view_module": "@jupyter-widgets/base",
            "_view_module_version": "1.2.0",
            "_view_name": "StyleView",
            "description_width": ""
          }
        },
        "efe6d2415ad444c58a048bebf8879a0d": {
          "model_module": "@jupyter-widgets/base",
          "model_name": "LayoutModel",
          "model_module_version": "1.2.0",
          "state": {
            "_model_module": "@jupyter-widgets/base",
            "_model_module_version": "1.2.0",
            "_model_name": "LayoutModel",
            "_view_count": null,
            "_view_module": "@jupyter-widgets/base",
            "_view_module_version": "1.2.0",
            "_view_name": "LayoutView",
            "align_content": null,
            "align_items": null,
            "align_self": null,
            "border": null,
            "bottom": null,
            "display": null,
            "flex": null,
            "flex_flow": null,
            "grid_area": null,
            "grid_auto_columns": null,
            "grid_auto_flow": null,
            "grid_auto_rows": null,
            "grid_column": null,
            "grid_gap": null,
            "grid_row": null,
            "grid_template_areas": null,
            "grid_template_columns": null,
            "grid_template_rows": null,
            "height": null,
            "justify_content": null,
            "justify_items": null,
            "left": null,
            "margin": null,
            "max_height": null,
            "max_width": null,
            "min_height": null,
            "min_width": null,
            "object_fit": null,
            "object_position": null,
            "order": null,
            "overflow": null,
            "overflow_x": null,
            "overflow_y": null,
            "padding": null,
            "right": null,
            "top": null,
            "visibility": null,
            "width": null
          }
        },
        "8df7df52cc6a42b5afb38c4eaf68601d": {
          "model_module": "@jupyter-widgets/controls",
          "model_name": "ProgressStyleModel",
          "model_module_version": "1.5.0",
          "state": {
            "_model_module": "@jupyter-widgets/controls",
            "_model_module_version": "1.5.0",
            "_model_name": "ProgressStyleModel",
            "_view_count": null,
            "_view_module": "@jupyter-widgets/base",
            "_view_module_version": "1.2.0",
            "_view_name": "StyleView",
            "bar_color": null,
            "description_width": ""
          }
        },
        "37eeb2c908f8494c8ee64a0bd90ff939": {
          "model_module": "@jupyter-widgets/base",
          "model_name": "LayoutModel",
          "model_module_version": "1.2.0",
          "state": {
            "_model_module": "@jupyter-widgets/base",
            "_model_module_version": "1.2.0",
            "_model_name": "LayoutModel",
            "_view_count": null,
            "_view_module": "@jupyter-widgets/base",
            "_view_module_version": "1.2.0",
            "_view_name": "LayoutView",
            "align_content": null,
            "align_items": null,
            "align_self": null,
            "border": null,
            "bottom": null,
            "display": null,
            "flex": null,
            "flex_flow": null,
            "grid_area": null,
            "grid_auto_columns": null,
            "grid_auto_flow": null,
            "grid_auto_rows": null,
            "grid_column": null,
            "grid_gap": null,
            "grid_row": null,
            "grid_template_areas": null,
            "grid_template_columns": null,
            "grid_template_rows": null,
            "height": null,
            "justify_content": null,
            "justify_items": null,
            "left": null,
            "margin": null,
            "max_height": null,
            "max_width": null,
            "min_height": null,
            "min_width": null,
            "object_fit": null,
            "object_position": null,
            "order": null,
            "overflow": null,
            "overflow_x": null,
            "overflow_y": null,
            "padding": null,
            "right": null,
            "top": null,
            "visibility": null,
            "width": null
          }
        },
        "2a1bc088b3b743d6bb238e60bef2e05a": {
          "model_module": "@jupyter-widgets/controls",
          "model_name": "DescriptionStyleModel",
          "model_module_version": "1.5.0",
          "state": {
            "_model_module": "@jupyter-widgets/controls",
            "_model_module_version": "1.5.0",
            "_model_name": "DescriptionStyleModel",
            "_view_count": null,
            "_view_module": "@jupyter-widgets/base",
            "_view_module_version": "1.2.0",
            "_view_name": "StyleView",
            "description_width": ""
          }
        },
        "8e79bb1fdeb84b79bd0ce52a5d559abf": {
          "model_module": "@jupyter-widgets/controls",
          "model_name": "HBoxModel",
          "model_module_version": "1.5.0",
          "state": {
            "_dom_classes": [],
            "_model_module": "@jupyter-widgets/controls",
            "_model_module_version": "1.5.0",
            "_model_name": "HBoxModel",
            "_view_count": null,
            "_view_module": "@jupyter-widgets/controls",
            "_view_module_version": "1.5.0",
            "_view_name": "HBoxView",
            "box_style": "",
            "children": [
              "IPY_MODEL_3919d55b490147ce97e1b905ffe5a1ac",
              "IPY_MODEL_d36a234a29d9444da98ac8d7d615f33c",
              "IPY_MODEL_20f19d9a2ea342f8b7a22db5a8bd4161"
            ],
            "layout": "IPY_MODEL_0dc458de42d64e3494a8a87b30af0ce7"
          }
        },
        "3919d55b490147ce97e1b905ffe5a1ac": {
          "model_module": "@jupyter-widgets/controls",
          "model_name": "HTMLModel",
          "model_module_version": "1.5.0",
          "state": {
            "_dom_classes": [],
            "_model_module": "@jupyter-widgets/controls",
            "_model_module_version": "1.5.0",
            "_model_name": "HTMLModel",
            "_view_count": null,
            "_view_module": "@jupyter-widgets/controls",
            "_view_module_version": "1.5.0",
            "_view_name": "HTMLView",
            "description": "",
            "description_tooltip": null,
            "layout": "IPY_MODEL_3d034cba75a14ed1acf3e5614af6749b",
            "placeholder": "​",
            "style": "IPY_MODEL_929ed09e819b4fbd9d93179e98630677",
            "value": "special_tokens_map.json: 100%"
          }
        },
        "d36a234a29d9444da98ac8d7d615f33c": {
          "model_module": "@jupyter-widgets/controls",
          "model_name": "FloatProgressModel",
          "model_module_version": "1.5.0",
          "state": {
            "_dom_classes": [],
            "_model_module": "@jupyter-widgets/controls",
            "_model_module_version": "1.5.0",
            "_model_name": "FloatProgressModel",
            "_view_count": null,
            "_view_module": "@jupyter-widgets/controls",
            "_view_module_version": "1.5.0",
            "_view_name": "ProgressView",
            "bar_style": "success",
            "description": "",
            "description_tooltip": null,
            "layout": "IPY_MODEL_2bee90c3fe5e4a299953ea42cf997342",
            "max": 112,
            "min": 0,
            "orientation": "horizontal",
            "style": "IPY_MODEL_ce7f28d79b644e4ea48b8be2c0c24fb1",
            "value": 112
          }
        },
        "20f19d9a2ea342f8b7a22db5a8bd4161": {
          "model_module": "@jupyter-widgets/controls",
          "model_name": "HTMLModel",
          "model_module_version": "1.5.0",
          "state": {
            "_dom_classes": [],
            "_model_module": "@jupyter-widgets/controls",
            "_model_module_version": "1.5.0",
            "_model_name": "HTMLModel",
            "_view_count": null,
            "_view_module": "@jupyter-widgets/controls",
            "_view_module_version": "1.5.0",
            "_view_name": "HTMLView",
            "description": "",
            "description_tooltip": null,
            "layout": "IPY_MODEL_f62831ff38ec4f93a442d63614ffaa71",
            "placeholder": "​",
            "style": "IPY_MODEL_68cc9085c89b482e96254b7e79d26ed1",
            "value": " 112/112 [00:00&lt;00:00, 7.77kB/s]"
          }
        },
        "0dc458de42d64e3494a8a87b30af0ce7": {
          "model_module": "@jupyter-widgets/base",
          "model_name": "LayoutModel",
          "model_module_version": "1.2.0",
          "state": {
            "_model_module": "@jupyter-widgets/base",
            "_model_module_version": "1.2.0",
            "_model_name": "LayoutModel",
            "_view_count": null,
            "_view_module": "@jupyter-widgets/base",
            "_view_module_version": "1.2.0",
            "_view_name": "LayoutView",
            "align_content": null,
            "align_items": null,
            "align_self": null,
            "border": null,
            "bottom": null,
            "display": null,
            "flex": null,
            "flex_flow": null,
            "grid_area": null,
            "grid_auto_columns": null,
            "grid_auto_flow": null,
            "grid_auto_rows": null,
            "grid_column": null,
            "grid_gap": null,
            "grid_row": null,
            "grid_template_areas": null,
            "grid_template_columns": null,
            "grid_template_rows": null,
            "height": null,
            "justify_content": null,
            "justify_items": null,
            "left": null,
            "margin": null,
            "max_height": null,
            "max_width": null,
            "min_height": null,
            "min_width": null,
            "object_fit": null,
            "object_position": null,
            "order": null,
            "overflow": null,
            "overflow_x": null,
            "overflow_y": null,
            "padding": null,
            "right": null,
            "top": null,
            "visibility": null,
            "width": null
          }
        },
        "3d034cba75a14ed1acf3e5614af6749b": {
          "model_module": "@jupyter-widgets/base",
          "model_name": "LayoutModel",
          "model_module_version": "1.2.0",
          "state": {
            "_model_module": "@jupyter-widgets/base",
            "_model_module_version": "1.2.0",
            "_model_name": "LayoutModel",
            "_view_count": null,
            "_view_module": "@jupyter-widgets/base",
            "_view_module_version": "1.2.0",
            "_view_name": "LayoutView",
            "align_content": null,
            "align_items": null,
            "align_self": null,
            "border": null,
            "bottom": null,
            "display": null,
            "flex": null,
            "flex_flow": null,
            "grid_area": null,
            "grid_auto_columns": null,
            "grid_auto_flow": null,
            "grid_auto_rows": null,
            "grid_column": null,
            "grid_gap": null,
            "grid_row": null,
            "grid_template_areas": null,
            "grid_template_columns": null,
            "grid_template_rows": null,
            "height": null,
            "justify_content": null,
            "justify_items": null,
            "left": null,
            "margin": null,
            "max_height": null,
            "max_width": null,
            "min_height": null,
            "min_width": null,
            "object_fit": null,
            "object_position": null,
            "order": null,
            "overflow": null,
            "overflow_x": null,
            "overflow_y": null,
            "padding": null,
            "right": null,
            "top": null,
            "visibility": null,
            "width": null
          }
        },
        "929ed09e819b4fbd9d93179e98630677": {
          "model_module": "@jupyter-widgets/controls",
          "model_name": "DescriptionStyleModel",
          "model_module_version": "1.5.0",
          "state": {
            "_model_module": "@jupyter-widgets/controls",
            "_model_module_version": "1.5.0",
            "_model_name": "DescriptionStyleModel",
            "_view_count": null,
            "_view_module": "@jupyter-widgets/base",
            "_view_module_version": "1.2.0",
            "_view_name": "StyleView",
            "description_width": ""
          }
        },
        "2bee90c3fe5e4a299953ea42cf997342": {
          "model_module": "@jupyter-widgets/base",
          "model_name": "LayoutModel",
          "model_module_version": "1.2.0",
          "state": {
            "_model_module": "@jupyter-widgets/base",
            "_model_module_version": "1.2.0",
            "_model_name": "LayoutModel",
            "_view_count": null,
            "_view_module": "@jupyter-widgets/base",
            "_view_module_version": "1.2.0",
            "_view_name": "LayoutView",
            "align_content": null,
            "align_items": null,
            "align_self": null,
            "border": null,
            "bottom": null,
            "display": null,
            "flex": null,
            "flex_flow": null,
            "grid_area": null,
            "grid_auto_columns": null,
            "grid_auto_flow": null,
            "grid_auto_rows": null,
            "grid_column": null,
            "grid_gap": null,
            "grid_row": null,
            "grid_template_areas": null,
            "grid_template_columns": null,
            "grid_template_rows": null,
            "height": null,
            "justify_content": null,
            "justify_items": null,
            "left": null,
            "margin": null,
            "max_height": null,
            "max_width": null,
            "min_height": null,
            "min_width": null,
            "object_fit": null,
            "object_position": null,
            "order": null,
            "overflow": null,
            "overflow_x": null,
            "overflow_y": null,
            "padding": null,
            "right": null,
            "top": null,
            "visibility": null,
            "width": null
          }
        },
        "ce7f28d79b644e4ea48b8be2c0c24fb1": {
          "model_module": "@jupyter-widgets/controls",
          "model_name": "ProgressStyleModel",
          "model_module_version": "1.5.0",
          "state": {
            "_model_module": "@jupyter-widgets/controls",
            "_model_module_version": "1.5.0",
            "_model_name": "ProgressStyleModel",
            "_view_count": null,
            "_view_module": "@jupyter-widgets/base",
            "_view_module_version": "1.2.0",
            "_view_name": "StyleView",
            "bar_color": null,
            "description_width": ""
          }
        },
        "f62831ff38ec4f93a442d63614ffaa71": {
          "model_module": "@jupyter-widgets/base",
          "model_name": "LayoutModel",
          "model_module_version": "1.2.0",
          "state": {
            "_model_module": "@jupyter-widgets/base",
            "_model_module_version": "1.2.0",
            "_model_name": "LayoutModel",
            "_view_count": null,
            "_view_module": "@jupyter-widgets/base",
            "_view_module_version": "1.2.0",
            "_view_name": "LayoutView",
            "align_content": null,
            "align_items": null,
            "align_self": null,
            "border": null,
            "bottom": null,
            "display": null,
            "flex": null,
            "flex_flow": null,
            "grid_area": null,
            "grid_auto_columns": null,
            "grid_auto_flow": null,
            "grid_auto_rows": null,
            "grid_column": null,
            "grid_gap": null,
            "grid_row": null,
            "grid_template_areas": null,
            "grid_template_columns": null,
            "grid_template_rows": null,
            "height": null,
            "justify_content": null,
            "justify_items": null,
            "left": null,
            "margin": null,
            "max_height": null,
            "max_width": null,
            "min_height": null,
            "min_width": null,
            "object_fit": null,
            "object_position": null,
            "order": null,
            "overflow": null,
            "overflow_x": null,
            "overflow_y": null,
            "padding": null,
            "right": null,
            "top": null,
            "visibility": null,
            "width": null
          }
        },
        "68cc9085c89b482e96254b7e79d26ed1": {
          "model_module": "@jupyter-widgets/controls",
          "model_name": "DescriptionStyleModel",
          "model_module_version": "1.5.0",
          "state": {
            "_model_module": "@jupyter-widgets/controls",
            "_model_module_version": "1.5.0",
            "_model_name": "DescriptionStyleModel",
            "_view_count": null,
            "_view_module": "@jupyter-widgets/base",
            "_view_module_version": "1.2.0",
            "_view_name": "StyleView",
            "description_width": ""
          }
        },
        "3d0ad5a713c3492ab3b886da8a96587d": {
          "model_module": "@jupyter-widgets/controls",
          "model_name": "HBoxModel",
          "model_module_version": "1.5.0",
          "state": {
            "_dom_classes": [],
            "_model_module": "@jupyter-widgets/controls",
            "_model_module_version": "1.5.0",
            "_model_name": "HBoxModel",
            "_view_count": null,
            "_view_module": "@jupyter-widgets/controls",
            "_view_module_version": "1.5.0",
            "_view_name": "HBoxView",
            "box_style": "",
            "children": [
              "IPY_MODEL_3bcef9b128224b9cb2fef9ee42f6dadc",
              "IPY_MODEL_5d65f3cbd16a441e944e863755ffd8d5",
              "IPY_MODEL_e358b7cea6eb44bd96abbe9bc94358e8"
            ],
            "layout": "IPY_MODEL_6fce69ad605e42cbb0c586be26c037b1"
          }
        },
        "3bcef9b128224b9cb2fef9ee42f6dadc": {
          "model_module": "@jupyter-widgets/controls",
          "model_name": "HTMLModel",
          "model_module_version": "1.5.0",
          "state": {
            "_dom_classes": [],
            "_model_module": "@jupyter-widgets/controls",
            "_model_module_version": "1.5.0",
            "_model_name": "HTMLModel",
            "_view_count": null,
            "_view_module": "@jupyter-widgets/controls",
            "_view_module_version": "1.5.0",
            "_view_name": "HTMLView",
            "description": "",
            "description_tooltip": null,
            "layout": "IPY_MODEL_6556996d8589424584c4789c018b1069",
            "placeholder": "​",
            "style": "IPY_MODEL_124c5cce7b7846a79880d5c77b02385d",
            "value": "model.safetensors: 100%"
          }
        },
        "5d65f3cbd16a441e944e863755ffd8d5": {
          "model_module": "@jupyter-widgets/controls",
          "model_name": "FloatProgressModel",
          "model_module_version": "1.5.0",
          "state": {
            "_dom_classes": [],
            "_model_module": "@jupyter-widgets/controls",
            "_model_module_version": "1.5.0",
            "_model_name": "FloatProgressModel",
            "_view_count": null,
            "_view_module": "@jupyter-widgets/controls",
            "_view_module_version": "1.5.0",
            "_view_name": "ProgressView",
            "bar_style": "success",
            "description": "",
            "description_tooltip": null,
            "layout": "IPY_MODEL_83c7409bc25d4afa8e87f22434e09110",
            "max": 543432324,
            "min": 0,
            "orientation": "horizontal",
            "style": "IPY_MODEL_bdc5fe902fa24248a10d9b01705516f9",
            "value": 543432324
          }
        },
        "e358b7cea6eb44bd96abbe9bc94358e8": {
          "model_module": "@jupyter-widgets/controls",
          "model_name": "HTMLModel",
          "model_module_version": "1.5.0",
          "state": {
            "_dom_classes": [],
            "_model_module": "@jupyter-widgets/controls",
            "_model_module_version": "1.5.0",
            "_model_name": "HTMLModel",
            "_view_count": null,
            "_view_module": "@jupyter-widgets/controls",
            "_view_module_version": "1.5.0",
            "_view_name": "HTMLView",
            "description": "",
            "description_tooltip": null,
            "layout": "IPY_MODEL_186e1786a3bf47c8a1abb6e2cc40d362",
            "placeholder": "​",
            "style": "IPY_MODEL_bef4e2ee8a2c401fa410e63773db785d",
            "value": " 543M/543M [00:04&lt;00:00, 162MB/s]"
          }
        },
        "6fce69ad605e42cbb0c586be26c037b1": {
          "model_module": "@jupyter-widgets/base",
          "model_name": "LayoutModel",
          "model_module_version": "1.2.0",
          "state": {
            "_model_module": "@jupyter-widgets/base",
            "_model_module_version": "1.2.0",
            "_model_name": "LayoutModel",
            "_view_count": null,
            "_view_module": "@jupyter-widgets/base",
            "_view_module_version": "1.2.0",
            "_view_name": "LayoutView",
            "align_content": null,
            "align_items": null,
            "align_self": null,
            "border": null,
            "bottom": null,
            "display": null,
            "flex": null,
            "flex_flow": null,
            "grid_area": null,
            "grid_auto_columns": null,
            "grid_auto_flow": null,
            "grid_auto_rows": null,
            "grid_column": null,
            "grid_gap": null,
            "grid_row": null,
            "grid_template_areas": null,
            "grid_template_columns": null,
            "grid_template_rows": null,
            "height": null,
            "justify_content": null,
            "justify_items": null,
            "left": null,
            "margin": null,
            "max_height": null,
            "max_width": null,
            "min_height": null,
            "min_width": null,
            "object_fit": null,
            "object_position": null,
            "order": null,
            "overflow": null,
            "overflow_x": null,
            "overflow_y": null,
            "padding": null,
            "right": null,
            "top": null,
            "visibility": null,
            "width": null
          }
        },
        "6556996d8589424584c4789c018b1069": {
          "model_module": "@jupyter-widgets/base",
          "model_name": "LayoutModel",
          "model_module_version": "1.2.0",
          "state": {
            "_model_module": "@jupyter-widgets/base",
            "_model_module_version": "1.2.0",
            "_model_name": "LayoutModel",
            "_view_count": null,
            "_view_module": "@jupyter-widgets/base",
            "_view_module_version": "1.2.0",
            "_view_name": "LayoutView",
            "align_content": null,
            "align_items": null,
            "align_self": null,
            "border": null,
            "bottom": null,
            "display": null,
            "flex": null,
            "flex_flow": null,
            "grid_area": null,
            "grid_auto_columns": null,
            "grid_auto_flow": null,
            "grid_auto_rows": null,
            "grid_column": null,
            "grid_gap": null,
            "grid_row": null,
            "grid_template_areas": null,
            "grid_template_columns": null,
            "grid_template_rows": null,
            "height": null,
            "justify_content": null,
            "justify_items": null,
            "left": null,
            "margin": null,
            "max_height": null,
            "max_width": null,
            "min_height": null,
            "min_width": null,
            "object_fit": null,
            "object_position": null,
            "order": null,
            "overflow": null,
            "overflow_x": null,
            "overflow_y": null,
            "padding": null,
            "right": null,
            "top": null,
            "visibility": null,
            "width": null
          }
        },
        "124c5cce7b7846a79880d5c77b02385d": {
          "model_module": "@jupyter-widgets/controls",
          "model_name": "DescriptionStyleModel",
          "model_module_version": "1.5.0",
          "state": {
            "_model_module": "@jupyter-widgets/controls",
            "_model_module_version": "1.5.0",
            "_model_name": "DescriptionStyleModel",
            "_view_count": null,
            "_view_module": "@jupyter-widgets/base",
            "_view_module_version": "1.2.0",
            "_view_name": "StyleView",
            "description_width": ""
          }
        },
        "83c7409bc25d4afa8e87f22434e09110": {
          "model_module": "@jupyter-widgets/base",
          "model_name": "LayoutModel",
          "model_module_version": "1.2.0",
          "state": {
            "_model_module": "@jupyter-widgets/base",
            "_model_module_version": "1.2.0",
            "_model_name": "LayoutModel",
            "_view_count": null,
            "_view_module": "@jupyter-widgets/base",
            "_view_module_version": "1.2.0",
            "_view_name": "LayoutView",
            "align_content": null,
            "align_items": null,
            "align_self": null,
            "border": null,
            "bottom": null,
            "display": null,
            "flex": null,
            "flex_flow": null,
            "grid_area": null,
            "grid_auto_columns": null,
            "grid_auto_flow": null,
            "grid_auto_rows": null,
            "grid_column": null,
            "grid_gap": null,
            "grid_row": null,
            "grid_template_areas": null,
            "grid_template_columns": null,
            "grid_template_rows": null,
            "height": null,
            "justify_content": null,
            "justify_items": null,
            "left": null,
            "margin": null,
            "max_height": null,
            "max_width": null,
            "min_height": null,
            "min_width": null,
            "object_fit": null,
            "object_position": null,
            "order": null,
            "overflow": null,
            "overflow_x": null,
            "overflow_y": null,
            "padding": null,
            "right": null,
            "top": null,
            "visibility": null,
            "width": null
          }
        },
        "bdc5fe902fa24248a10d9b01705516f9": {
          "model_module": "@jupyter-widgets/controls",
          "model_name": "ProgressStyleModel",
          "model_module_version": "1.5.0",
          "state": {
            "_model_module": "@jupyter-widgets/controls",
            "_model_module_version": "1.5.0",
            "_model_name": "ProgressStyleModel",
            "_view_count": null,
            "_view_module": "@jupyter-widgets/base",
            "_view_module_version": "1.2.0",
            "_view_name": "StyleView",
            "bar_color": null,
            "description_width": ""
          }
        },
        "186e1786a3bf47c8a1abb6e2cc40d362": {
          "model_module": "@jupyter-widgets/base",
          "model_name": "LayoutModel",
          "model_module_version": "1.2.0",
          "state": {
            "_model_module": "@jupyter-widgets/base",
            "_model_module_version": "1.2.0",
            "_model_name": "LayoutModel",
            "_view_count": null,
            "_view_module": "@jupyter-widgets/base",
            "_view_module_version": "1.2.0",
            "_view_name": "LayoutView",
            "align_content": null,
            "align_items": null,
            "align_self": null,
            "border": null,
            "bottom": null,
            "display": null,
            "flex": null,
            "flex_flow": null,
            "grid_area": null,
            "grid_auto_columns": null,
            "grid_auto_flow": null,
            "grid_auto_rows": null,
            "grid_column": null,
            "grid_gap": null,
            "grid_row": null,
            "grid_template_areas": null,
            "grid_template_columns": null,
            "grid_template_rows": null,
            "height": null,
            "justify_content": null,
            "justify_items": null,
            "left": null,
            "margin": null,
            "max_height": null,
            "max_width": null,
            "min_height": null,
            "min_width": null,
            "object_fit": null,
            "object_position": null,
            "order": null,
            "overflow": null,
            "overflow_x": null,
            "overflow_y": null,
            "padding": null,
            "right": null,
            "top": null,
            "visibility": null,
            "width": null
          }
        },
        "bef4e2ee8a2c401fa410e63773db785d": {
          "model_module": "@jupyter-widgets/controls",
          "model_name": "DescriptionStyleModel",
          "model_module_version": "1.5.0",
          "state": {
            "_model_module": "@jupyter-widgets/controls",
            "_model_module_version": "1.5.0",
            "_model_name": "DescriptionStyleModel",
            "_view_count": null,
            "_view_module": "@jupyter-widgets/base",
            "_view_module_version": "1.2.0",
            "_view_name": "StyleView",
            "description_width": ""
          }
        }
      }
    }
  },
  "nbformat": 4,
  "nbformat_minor": 5
}